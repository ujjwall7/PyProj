{
 "cells": [
  {
   "cell_type": "code",
   "execution_count": null,
   "id": "2f19f242",
   "metadata": {},
   "outputs": [],
   "source": [
    "concating string"
   ]
  },
  {
   "cell_type": "code",
   "execution_count": 2,
   "id": "0869081e",
   "metadata": {},
   "outputs": [],
   "source": [
    "first='mohan'"
   ]
  },
  {
   "cell_type": "code",
   "execution_count": 3,
   "id": "ca94f98d",
   "metadata": {},
   "outputs": [],
   "source": [
    "last='singh'"
   ]
  },
  {
   "cell_type": "code",
   "execution_count": 4,
   "id": "3e2fedcf",
   "metadata": {},
   "outputs": [],
   "source": [
    "sum=first+\" \"+last  = mohan singh"
   ]
  },
  {
   "cell_type": "code",
   "execution_count": 6,
   "id": "94ea2cc8",
   "metadata": {},
   "outputs": [],
   "source": [
    "msg='hello'"
   ]
  },
  {
   "cell_type": "code",
   "execution_count": 7,
   "id": "321c5413",
   "metadata": {},
   "outputs": [
    {
     "data": {
      "text/plain": [
       "'hellohellohellohellohello'"
      ]
     },
     "execution_count": 7,
     "metadata": {},
     "output_type": "execute_result"
    }
   ],
   "source": [
    "msg*5"
   ]
  },
  {
   "cell_type": "code",
   "execution_count": 8,
   "id": "6fdc6814",
   "metadata": {},
   "outputs": [],
   "source": [
    "msg='hello'"
   ]
  },
  {
   "cell_type": "code",
   "execution_count": 9,
   "id": "38b793a1",
   "metadata": {},
   "outputs": [
    {
     "data": {
      "text/plain": [
       "'l'"
      ]
     },
     "execution_count": 9,
     "metadata": {},
     "output_type": "execute_result"
    }
   ],
   "source": [
    "msg[2]"
   ]
  },
  {
   "cell_type": "code",
   "execution_count": 10,
   "id": "44a44e40",
   "metadata": {},
   "outputs": [
    {
     "data": {
      "text/plain": [
       "'h'"
      ]
     },
     "execution_count": 10,
     "metadata": {},
     "output_type": "execute_result"
    }
   ],
   "source": [
    "msg[0]"
   ]
  },
  {
   "cell_type": "code",
   "execution_count": 12,
   "id": "b84e7f6f",
   "metadata": {},
   "outputs": [
    {
     "data": {
      "text/plain": [
       "'e'"
      ]
     },
     "execution_count": 12,
     "metadata": {},
     "output_type": "execute_result"
    }
   ],
   "source": [
    "msg[1]\n",
    "\n"
   ]
  },
  {
   "cell_type": "code",
   "execution_count": 13,
   "id": "ac06c4af",
   "metadata": {},
   "outputs": [
    {
     "data": {
      "text/plain": [
       "'olleh'"
      ]
     },
     "execution_count": 13,
     "metadata": {},
     "output_type": "execute_result"
    }
   ],
   "source": [
    "msg[::-1]"
   ]
  },
  {
   "cell_type": "code",
   "execution_count": 15,
   "id": "854f3fef",
   "metadata": {},
   "outputs": [
    {
     "data": {
      "text/plain": [
       "'olh'"
      ]
     },
     "execution_count": 15,
     "metadata": {},
     "output_type": "execute_result"
    }
   ],
   "source": [
    "msg[::-2]"
   ]
  },
  {
   "cell_type": "code",
   "execution_count": 16,
   "id": "56f551df",
   "metadata": {},
   "outputs": [
    {
     "data": {
      "text/plain": [
       "'oe'"
      ]
     },
     "execution_count": 16,
     "metadata": {},
     "output_type": "execute_result"
    }
   ],
   "source": [
    "msg[::-3]"
   ]
  },
  {
   "cell_type": "code",
   "execution_count": 17,
   "id": "5f659cc9",
   "metadata": {},
   "outputs": [
    {
     "data": {
      "text/plain": [
       "'oh'"
      ]
     },
     "execution_count": 17,
     "metadata": {},
     "output_type": "execute_result"
    }
   ],
   "source": [
    "msg[::-4]"
   ]
  },
  {
   "cell_type": "code",
   "execution_count": 21,
   "id": "4eb7c9cf",
   "metadata": {},
   "outputs": [
    {
     "data": {
      "text/plain": [
       "'o'"
      ]
     },
     "execution_count": 21,
     "metadata": {},
     "output_type": "execute_result"
    }
   ],
   "source": [
    "msg[::-5]"
   ]
  },
  {
   "cell_type": "code",
   "execution_count": 22,
   "id": "a9c37f44",
   "metadata": {},
   "outputs": [
    {
     "data": {
      "text/plain": [
       "''"
      ]
     },
     "execution_count": 22,
     "metadata": {},
     "output_type": "execute_result"
    }
   ],
   "source": [
    "msg[-2:-5]"
   ]
  },
  {
   "cell_type": "code",
   "execution_count": 20,
   "id": "970e6484",
   "metadata": {},
   "outputs": [
    {
     "data": {
      "text/plain": [
       "'hell'"
      ]
     },
     "execution_count": 20,
     "metadata": {},
     "output_type": "execute_result"
    }
   ],
   "source": [
    "msg[-5:-1]\n",
    "\n"
   ]
  },
  {
   "cell_type": "code",
   "execution_count": 23,
   "id": "710963a8",
   "metadata": {},
   "outputs": [
    {
     "data": {
      "text/plain": [
       "''"
      ]
     },
     "execution_count": 23,
     "metadata": {},
     "output_type": "execute_result"
    }
   ],
   "source": [
    "msg[-1:-6]"
   ]
  },
  {
   "cell_type": "code",
   "execution_count": 24,
   "id": "71b698b8",
   "metadata": {},
   "outputs": [
    {
     "data": {
      "text/plain": [
       "''"
      ]
     },
     "execution_count": 24,
     "metadata": {},
     "output_type": "execute_result"
    }
   ],
   "source": [
    "msg[0:5:-2]"
   ]
  },
  {
   "cell_type": "code",
   "execution_count": 26,
   "id": "1ff40cbb",
   "metadata": {},
   "outputs": [
    {
     "data": {
      "text/plain": [
       "'ell'"
      ]
     },
     "execution_count": 26,
     "metadata": {},
     "output_type": "execute_result"
    }
   ],
   "source": [
    "msg[1:4]"
   ]
  },
  {
   "cell_type": "code",
   "execution_count": null,
   "id": "e8bf2696",
   "metadata": {},
   "outputs": [],
   "source": []
  }
 ],
 "metadata": {
  "kernelspec": {
   "display_name": "Python 3 (ipykernel)",
   "language": "python",
   "name": "python3"
  },
  "language_info": {
   "codemirror_mode": {
    "name": "ipython",
    "version": 3
   },
   "file_extension": ".py",
   "mimetype": "text/x-python",
   "name": "python",
   "nbconvert_exporter": "python",
   "pygments_lexer": "ipython3",
   "version": "3.9.7"
  }
 },
 "nbformat": 4,
 "nbformat_minor": 5
}
