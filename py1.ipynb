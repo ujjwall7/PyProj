{
 "cells": [
  {
   "cell_type": "code",
   "execution_count": 1,
   "id": "508c5aa5",
   "metadata": {},
   "outputs": [],
   "source": [
    "info='delhi chills during winter'"
   ]
  },
  {
   "cell_type": "code",
   "execution_count": 8,
   "id": "df830b19",
   "metadata": {},
   "outputs": [
    {
     "data": {
      "text/plain": [
       "'DELHI CHILLS DURING WINTER'"
      ]
     },
     "execution_count": 8,
     "metadata": {},
     "output_type": "execute_result"
    }
   ],
   "source": [
    "info.upper()"
   ]
  },
  {
   "cell_type": "code",
   "execution_count": 9,
   "id": "28f8ba7f",
   "metadata": {},
   "outputs": [
    {
     "data": {
      "text/plain": [
       "'delhi chills during winter'"
      ]
     },
     "execution_count": 9,
     "metadata": {},
     "output_type": "execute_result"
    }
   ],
   "source": [
    "info.lower()"
   ]
  },
  {
   "cell_type": "code",
   "execution_count": 25,
   "id": "0e31a2a1",
   "metadata": {},
   "outputs": [
    {
     "data": {
      "text/plain": [
       "['retniw', 'gnirud', 'sllihc', 'ihleD']"
      ]
     },
     "execution_count": 25,
     "metadata": {},
     "output_type": "execute_result"
    }
   ],
   "source": [
    "info.capitalize()[::-1].split()"
   ]
  },
  {
   "cell_type": "code",
   "execution_count": 40,
   "id": "62ea8d14",
   "metadata": {},
   "outputs": [
    {
     "data": {
      "text/plain": [
       "['winter', 'during', 'chills', 'delhi']"
      ]
     },
     "execution_count": 40,
     "metadata": {},
     "output_type": "execute_result"
    }
   ],
   "source": [
    "info.split()"
   ]
  },
  {
   "cell_type": "code",
   "execution_count": 60,
   "id": "1f75334e",
   "metadata": {},
   "outputs": [
    {
     "ename": "SyntaxError",
     "evalue": "invalid syntax (Temp/ipykernel_15088/2795834555.py, line 1)",
     "output_type": "error",
     "traceback": [
      "\u001b[1;36m  File \u001b[1;32m\"C:\\Users\\DELL\\AppData\\Local\\Temp/ipykernel_15088/2795834555.py\"\u001b[1;36m, line \u001b[1;32m1\u001b[0m\n\u001b[1;33m    info.split('').append(30)[::-1].\u001b[0m\n\u001b[1;37m                                    ^\u001b[0m\n\u001b[1;31mSyntaxError\u001b[0m\u001b[1;31m:\u001b[0m invalid syntax\n"
     ]
    }
   ],
   "source": [
    "info.split('').append(30)[::-1]."
   ]
  },
  {
   "cell_type": "code",
   "execution_count": null,
   "id": "d094ae84",
   "metadata": {},
   "outputs": [],
   "source": []
  },
  {
   "cell_type": "code",
   "execution_count": null,
   "id": "24f1873f",
   "metadata": {},
   "outputs": [],
   "source": []
  }
 ],
 "metadata": {
  "kernelspec": {
   "display_name": "Python 3 (ipykernel)",
   "language": "python",
   "name": "python3"
  },
  "language_info": {
   "codemirror_mode": {
    "name": "ipython",
    "version": 3
   },
   "file_extension": ".py",
   "mimetype": "text/x-python",
   "name": "python",
   "nbconvert_exporter": "python",
   "pygments_lexer": "ipython3",
   "version": "3.9.7"
  }
 },
 "nbformat": 4,
 "nbformat_minor": 5
}
