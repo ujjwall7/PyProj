{
 "cells": [
  {
   "cell_type": "code",
   "execution_count": 1,
   "id": "ff256a3c",
   "metadata": {},
   "outputs": [
    {
     "name": "stdout",
     "output_type": "stream",
     "text": [
      "Enter a stringdeepak\n"
     ]
    }
   ],
   "source": [
    "userinput=input(\"Enter a string\")\n",
    "vowels=['a','e','i','o','u']\n",
    "acount=0\n",
    "ecount=0\n",
    "icount=0\n",
    "ocount=0\n",
    "ucount=0\n",
    "\n",
    "vowelscount=[]\n",
    "\n",
    "for char in userinput:\n",
    "    if char =='a':\n",
    "        acount+=1\n",
    "        \n",
    "    if char =='e':\n",
    "        ecount+=1\n",
    "        \n",
    "    if char =='i':\n",
    "        icount+=1\n",
    "        \n",
    "    if char =='o':\n",
    "        ocount+=1\n",
    "        \n",
    "    if char =='u':\n",
    "        ucount+=1\n",
    "        \n",
    "vowelscount=[acount,ecount,icount,ocount,ucount]\n",
    "\n",
    "\n",
    "\n",
    "\n",
    "\n",
    "\n",
    "\n",
    "\n",
    "    \n",
    "\n",
    "                   \n",
    "\n",
    "\n",
    "\n"
   ]
  },
  {
   "cell_type": "code",
   "execution_count": null,
   "id": "b3285b39",
   "metadata": {},
   "outputs": [],
   "source": [
    "def name():\n",
    "    name=input(\"Enter Your Full Name\")\n",
    "    n=name.split()\n",
    "    lastname=n[-1]\n",
    "    firstname=n[0]\n",
    "    return lastname\n",
    "name()"
   ]
  },
  {
   "cell_type": "code",
   "execution_count": 9,
   "id": "9647416c",
   "metadata": {},
   "outputs": [],
   "source": [
    "def foo(a=4):\n",
    "    b=a*2\n",
    "    print(b)\n",
    "    foo()"
   ]
  },
  {
   "cell_type": "code",
   "execution_count": 13,
   "id": "c8745aa0",
   "metadata": {},
   "outputs": [
    {
     "name": "stdout",
     "output_type": "stream",
     "text": [
      "2.345\n",
      "2.3452.345\n"
     ]
    }
   ],
   "source": [
    "a=input()\n",
    "b=a*2\n",
    "print(b)"
   ]
  },
  {
   "cell_type": "code",
   "execution_count": 27,
   "id": "847a05d4",
   "metadata": {},
   "outputs": [
    {
     "name": "stdout",
     "output_type": "stream",
     "text": [
      "enter electricity unit:400\n",
      "unit is over limit no benifits this offer\n"
     ]
    }
   ],
   "source": [
    "# assignment 9\n",
    "bill=int(input('enter electricity unit:'))\n",
    "if bill<100:\n",
    "    print('electricity is nill')\n",
    "elif bill<200:\n",
    "    p=bill*5\n",
    "    print('price is rs 5/unit',p)\n",
    "elif bill<400:\n",
    "    q=bill*10\n",
    "    print('price is rs 10/unit',q)\n",
    "else:\n",
    "    print('unit is over limit no benifits this offer')\n",
    "    \n",
    "    \n",
    "    \n",
    "        \n",
    "        \n",
    "    "
   ]
  },
  {
   "cell_type": "code",
   "execution_count": 31,
   "id": "9116bdcd",
   "metadata": {},
   "outputs": [
    {
     "name": "stdout",
     "output_type": "stream",
     "text": [
      "DEPARTMENT OF HUMAN RESOURCE\n",
      "HUMAN RESOURCE\n"
     ]
    }
   ],
   "source": [
    "# 1st\n",
    "n =\"department of human resource\"\n",
    "t=n.upper()\n",
    "print(t)\n",
    "print(t[14:28])\n"
   ]
  },
  {
   "cell_type": "code",
   "execution_count": 32,
   "id": "f071469e",
   "metadata": {},
   "outputs": [
    {
     "name": "stdout",
     "output_type": "stream",
     "text": [
      "5\n"
     ]
    }
   ],
   "source": [
    "#2nd\n",
    "items =['apple','mango','peach','grapes','kiwi']\n",
    "print(len(items))"
   ]
  },
  {
   "cell_type": "code",
   "execution_count": 36,
   "id": "ddd91c19",
   "metadata": {},
   "outputs": [
    {
     "name": "stdout",
     "output_type": "stream",
     "text": [
      "91\n",
      "grade A\n"
     ]
    }
   ],
   "source": [
    "# 3rd\n",
    "m = int(input())\n",
    "if(m<=30):\n",
    "    print('fail')\n",
    "elif(30<m<=60):\n",
    "        print('grade D')\n",
    "elif(61<m<=80):\n",
    "            print('grade C')\n",
    "elif(81<m<=90):\n",
    "                print('grade B')\n",
    "else:\n",
    "    print('grade A')"
   ]
  },
  {
   "cell_type": "code",
   "execution_count": 2,
   "id": "150517f3",
   "metadata": {},
   "outputs": [
    {
     "name": "stdout",
     "output_type": "stream",
     "text": [
      "545\n",
      "545\n"
     ]
    }
   ],
   "source": [
    "# 4th\n",
    "n=int(input())\n",
    "if(n<0):\n",
    "    a=-(n)\n",
    "    print(a)\n",
    "if(n>0):\n",
    "    print(n)"
   ]
  },
  {
   "cell_type": "code",
   "execution_count": 4,
   "id": "e8b79e63",
   "metadata": {},
   "outputs": [
    {
     "name": "stdout",
     "output_type": "stream",
     "text": [
      "total no. of classes per subject are 100:76\n",
      "enter the marks of maths:85\n",
      "enter the marks of eng:75\n",
      "enter the marks of ss:95\n",
      "enter the marks of maths:75\n",
      "allowed for exam\n"
     ]
    }
   ],
   "source": [
    "# 5th\n",
    "n =int(input('total no. of classes per subject are 100:'))\n",
    "a=int(input('enter the marks of maths:'))\n",
    "b=int(input('enter the marks of eng:'))\n",
    "c=int(input('enter the marks of ss:'))\n",
    "d=int(input('enter the marks of maths:'))\n",
    "p=((a+b+c+d/400)*100)\n",
    "if(n>75 and p>50):\n",
    "    print('allowed for exam')\n",
    "    \n",
    "else:\n",
    "    print('not allowed for exam')"
   ]
  },
  {
   "cell_type": "code",
   "execution_count": 6,
   "id": "4e573aac",
   "metadata": {},
   "outputs": [
    {
     "name": "stdout",
     "output_type": "stream",
     "text": [
      "enter the number23\n",
      "enter the number45\n",
      "its a rectangle\n"
     ]
    }
   ],
   "source": [
    "#6th\n",
    "m=int(input('enter the number'))\n",
    "n=int(input('enter the number'))\n",
    "if m==n:\n",
    "    print('its a square shape')\n",
    "else:\n",
    "    print('its a rectangle')\n"
   ]
  },
  {
   "cell_type": "code",
   "execution_count": 10,
   "id": "216b9c3c",
   "metadata": {},
   "outputs": [
    {
     "name": "stdout",
     "output_type": "stream",
     "text": [
      "enter a number5678\n",
      "last digit of number 8\n"
     ]
    }
   ],
   "source": [
    "#7th\n",
    "n=int(input('enter a number'))\n",
    "m=n%10\n",
    "print('last digit of number',m)"
   ]
  },
  {
   "cell_type": "code",
   "execution_count": 16,
   "id": "e37080e2",
   "metadata": {},
   "outputs": [
    {
     "name": "stdout",
     "output_type": "stream",
     "text": [
      "enter a number33\n",
      "3 is divisible by 3\n"
     ]
    }
   ],
   "source": [
    "#8th \n",
    "n=int(input('enter a number'))\n",
    "rem=n%10\n",
    "if rem%3==0:\n",
    "    print(rem,'is divisible by 3')\n",
    "else:\n",
    "    print(rem,'not divisible by 3')\n",
    "      "
   ]
  },
  {
   "cell_type": "code",
   "execution_count": null,
   "id": "839abd8f",
   "metadata": {},
   "outputs": [],
   "source": []
  }
 ],
 "metadata": {
  "kernelspec": {
   "display_name": "Python 3 (ipykernel)",
   "language": "python",
   "name": "python3"
  },
  "language_info": {
   "codemirror_mode": {
    "name": "ipython",
    "version": 3
   },
   "file_extension": ".py",
   "mimetype": "text/x-python",
   "name": "python",
   "nbconvert_exporter": "python",
   "pygments_lexer": "ipython3",
   "version": "3.9.7"
  }
 },
 "nbformat": 4,
 "nbformat_minor": 5
}
