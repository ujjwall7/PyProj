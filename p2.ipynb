{
 "cells": [
  {
   "cell_type": "code",
   "execution_count": 2,
   "id": "96c9ca28",
   "metadata": {},
   "outputs": [],
   "source": [
    "item =[1,2,3]"
   ]
  },
  {
   "cell_type": "code",
   "execution_count": 3,
   "id": "1f6dbb48",
   "metadata": {},
   "outputs": [],
   "source": [
    "box =[7,8,9]"
   ]
  },
  {
   "cell_type": "code",
   "execution_count": 4,
   "id": "f030e2e8",
   "metadata": {},
   "outputs": [],
   "source": [
    "c=a3=item+box"
   ]
  },
  {
   "cell_type": "code",
   "execution_count": 5,
   "id": "e3e432b8",
   "metadata": {},
   "outputs": [],
   "source": [
    "c=item+box"
   ]
  },
  {
   "cell_type": "code",
   "execution_count": 6,
   "id": "b32bee63",
   "metadata": {},
   "outputs": [],
   "source": [
    "a3=item *3"
   ]
  },
  {
   "cell_type": "code",
   "execution_count": 8,
   "id": "ed542c92",
   "metadata": {},
   "outputs": [],
   "source": [
    "a3=box*2"
   ]
  },
  {
   "cell_type": "code",
   "execution_count": 7,
   "id": "c38bb4b0",
   "metadata": {},
   "outputs": [
    {
     "data": {
      "text/plain": [
       "[1, 2, 3, 1, 2, 3, 1, 2, 3]"
      ]
     },
     "execution_count": 7,
     "metadata": {},
     "output_type": "execute_result"
    }
   ],
   "source": [
    "a3"
   ]
  },
  {
   "cell_type": "code",
   "execution_count": 9,
   "id": "f543dde8",
   "metadata": {},
   "outputs": [
    {
     "data": {
      "text/plain": [
       "[7, 8, 9, 7, 8, 9]"
      ]
     },
     "execution_count": 9,
     "metadata": {},
     "output_type": "execute_result"
    }
   ],
   "source": [
    "a3"
   ]
  },
  {
   "cell_type": "code",
   "execution_count": null,
   "id": "6738e4d0",
   "metadata": {},
   "outputs": [],
   "source": []
  }
 ],
 "metadata": {
  "kernelspec": {
   "display_name": "Python 3 (ipykernel)",
   "language": "python",
   "name": "python3"
  },
  "language_info": {
   "codemirror_mode": {
    "name": "ipython",
    "version": 3
   },
   "file_extension": ".py",
   "mimetype": "text/x-python",
   "name": "python",
   "nbconvert_exporter": "python",
   "pygments_lexer": "ipython3",
   "version": "3.9.7"
  }
 },
 "nbformat": 4,
 "nbformat_minor": 5
}
