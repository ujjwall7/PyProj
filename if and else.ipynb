{
 "cells": [
  {
   "cell_type": "code",
   "execution_count": null,
   "id": "6e727566",
   "metadata": {},
   "outputs": [],
   "source": [
    "if condition:\n",
    "    trueblock\n",
    "else:\n",
    "    falseblock"
   ]
  },
  {
   "cell_type": "code",
   "execution_count": 4,
   "id": "5b1557ec",
   "metadata": {},
   "outputs": [
    {
     "name": "stdout",
     "output_type": "stream",
     "text": [
      "b is greaeter\n"
     ]
    }
   ],
   "source": [
    "a,b=10,20\n",
    "if a>b:\n",
    "    print('a is greater')\n",
    "else:\n",
    "    print('b is greaeter')"
   ]
  },
  {
   "cell_type": "code",
   "execution_count": 30,
   "id": "b29bc7bf",
   "metadata": {},
   "outputs": [
    {
     "name": "stdout",
     "output_type": "stream",
     "text": [
      "400 is greatest number.\n"
     ]
    }
   ],
   "source": [
    "a=100\n",
    "b=400\n",
    "if a>b:\n",
    "    print(a,'is greatest number.')\n",
    "else:\n",
    "    print(b,'is greatest number.')"
   ]
  },
  {
   "cell_type": "code",
   "execution_count": null,
   "id": "d1e8dae4",
   "metadata": {},
   "outputs": [],
   "source": [
    "          \n"
   ]
  },
  {
   "cell_type": "code",
   "execution_count": 39,
   "id": "3411072e",
   "metadata": {},
   "outputs": [
    {
     "name": "stdout",
     "output_type": "stream",
     "text": [
      "200 is greater number\n"
     ]
    }
   ],
   "source": [
    "a=30\n",
    "b=200\n",
    "c=10\n",
    "if a > b:\n",
    "    if a > c:\n",
    "        print(a,'is the greater number.')\n",
    "    else:\n",
    "        print(c, 'is the greater number')\n",
    "else:\n",
    "        if b > c:\n",
    "            print(b,'is greater number')\n",
    "        else:\n",
    "            print(c,'is greater number')\n"
   ]
  },
  {
   "cell_type": "code",
   "execution_count": 44,
   "id": "907701bc",
   "metadata": {},
   "outputs": [
    {
     "name": "stdout",
     "output_type": "stream",
     "text": [
      "2 is the smaller number.\n"
     ]
    }
   ],
   "source": [
    "a=1\n",
    "b=2\n",
    "c=10\n",
    "if a < b:\n",
    "    if a < c:\n",
    "        print(b,'is the smaller number.')\n",
    "    else:\n",
    "        print(a, 'is the smaller number')\n",
    "else:\n",
    "    if b < c:\n",
    "        print(b,'is smaller number')\n",
    "    else:\n",
    "        print(c,'is smaller number')\n"
   ]
  },
  {
   "cell_type": "code",
   "execution_count": 16,
   "id": "2d709000",
   "metadata": {},
   "outputs": [
    {
     "name": "stdout",
     "output_type": "stream",
     "text": [
      "even number: 0\n",
      "even number: 2\n",
      "even number: 4\n",
      "even number: 6\n",
      "even number: 8\n",
      "even number: 10\n",
      "even number: 12\n",
      "even number: 14\n",
      "even number: 16\n",
      "even number: 18\n"
     ]
    }
   ],
   "source": [
    "for i in range(0,20):\n",
    "    if (i%2==0):\n",
    "        even_number_list.append(i)\n",
    "        print('even number:',i)"
   ]
  },
  {
   "cell_type": "code",
   "execution_count": 29,
   "id": "68d11b2a",
   "metadata": {},
   "outputs": [
    {
     "name": "stdout",
     "output_type": "stream",
     "text": [
      "even_number_list 0\n",
      "even_number_list 2\n",
      "even_number_list 4\n",
      "even_number_list 6\n",
      "even_number_list 8\n",
      "even_number_list 10\n",
      "even_number_list 12\n",
      "even_number_list 14\n",
      "even_number_list 16\n",
      "even_number_list 18\n"
     ]
    }
   ],
   "source": [
    "even_number_list=[]\n",
    "for i in range(0,20):\n",
    "    if i%2==0:\n",
    "        even_number_list.append(i)\n",
    "        print('even_number_list',i)\n"
   ]
  },
  {
   "cell_type": "code",
   "execution_count": 40,
   "id": "dface7ff",
   "metadata": {},
   "outputs": [],
   "source": [
    "n=[1,2,3,4]\n",
    "n=n.reverse()\n",
    "        \n",
    "        "
   ]
  },
  {
   "cell_type": "code",
   "execution_count": 42,
   "id": "acb27539",
   "metadata": {},
   "outputs": [
    {
     "name": "stdout",
     "output_type": "stream",
     "text": [
      "enter the number:42\n",
      "\n",
      " even number\n"
     ]
    }
   ],
   "source": [
    "num=int(input('enter the number:'))\n",
    "if (num%2==1):\n",
    "    print(\"\\n odd number\")\n",
    "else:\n",
    "    print(\"\\n even number\")"
   ]
  },
  {
   "cell_type": "code",
   "execution_count": 43,
   "id": "b4ccf6cf",
   "metadata": {},
   "outputs": [
    {
     "name": "stdout",
     "output_type": "stream",
     "text": [
      "enter the first name of the userdeepak\n",
      "enter the last name of the userchaubey\n"
     ]
    },
    {
     "data": {
      "text/plain": [
       "'deepak chaubey'"
      ]
     },
     "execution_count": 43,
     "metadata": {},
     "output_type": "execute_result"
    }
   ],
   "source": [
    "fname=input('enter the first name of the user')\n",
    "lname=input('enter the last name of the user')\n",
    "fname+' '+lname"
   ]
  },
  {
   "cell_type": "code",
   "execution_count": 44,
   "id": "74a73e82",
   "metadata": {},
   "outputs": [
    {
     "data": {
      "text/plain": [
       "'chaubey'"
      ]
     },
     "execution_count": 44,
     "metadata": {},
     "output_type": "execute_result"
    }
   ],
   "source": [
    "lname"
   ]
  },
  {
   "cell_type": "code",
   "execution_count": 45,
   "id": "115d9458",
   "metadata": {},
   "outputs": [
    {
     "data": {
      "text/plain": [
       "'deepak'"
      ]
     },
     "execution_count": 45,
     "metadata": {},
     "output_type": "execute_result"
    }
   ],
   "source": [
    "fname"
   ]
  },
  {
   "cell_type": "code",
   "execution_count": 46,
   "id": "0be5a635",
   "metadata": {},
   "outputs": [
    {
     "name": "stdout",
     "output_type": "stream",
     "text": [
      "enter the number:4546\n"
     ]
    }
   ],
   "source": [
    "num=(input(\"enter the number:\"))\n"
   ]
  },
  {
   "cell_type": "code",
   "execution_count": 47,
   "id": "0f280a84",
   "metadata": {},
   "outputs": [
    {
     "data": {
      "text/plain": [
       "'4546'"
      ]
     },
     "execution_count": 47,
     "metadata": {},
     "output_type": "execute_result"
    }
   ],
   "source": [
    "num"
   ]
  },
  {
   "cell_type": "code",
   "execution_count": 48,
   "id": "463d4e29",
   "metadata": {},
   "outputs": [
    {
     "data": {
      "text/plain": [
       "'6454'"
      ]
     },
     "execution_count": 48,
     "metadata": {},
     "output_type": "execute_result"
    }
   ],
   "source": [
    "num[::-1]"
   ]
  },
  {
   "cell_type": "code",
   "execution_count": 51,
   "id": "2fecc2c4",
   "metadata": {},
   "outputs": [
    {
     "data": {
      "text/plain": [
       "['4546']"
      ]
     },
     "execution_count": 51,
     "metadata": {},
     "output_type": "execute_result"
    }
   ],
   "source": [
    "num.split()"
   ]
  },
  {
   "cell_type": "code",
   "execution_count": 62,
   "id": "20aafa5d",
   "metadata": {},
   "outputs": [
    {
     "data": {
      "text/plain": [
       "[1234]"
      ]
     },
     "execution_count": 62,
     "metadata": {},
     "output_type": "execute_result"
    }
   ],
   "source": [
    "n=[1234]\n",
    "n\n"
   ]
  },
  {
   "cell_type": "code",
   "execution_count": 69,
   "id": "f1e44d7c",
   "metadata": {},
   "outputs": [
    {
     "data": {
      "text/plain": [
       "[1, 2, 3, 4, 5, 6]"
      ]
     },
     "execution_count": 69,
     "metadata": {},
     "output_type": "execute_result"
    }
   ],
   "source": [
    "num=[1,2,3,4,5,6]\n",
    "num"
   ]
  },
  {
   "cell_type": "code",
   "execution_count": 78,
   "id": "bc73f44b",
   "metadata": {},
   "outputs": [],
   "source": [
    "list=(range(20))"
   ]
  },
  {
   "cell_type": "code",
   "execution_count": null,
   "id": "83654e40",
   "metadata": {},
   "outputs": [],
   "source": []
  },
  {
   "cell_type": "code",
   "execution_count": null,
   "id": "b39eb52c",
   "metadata": {},
   "outputs": [],
   "source": []
  }
 ],
 "metadata": {
  "kernelspec": {
   "display_name": "Python 3 (ipykernel)",
   "language": "python",
   "name": "python3"
  },
  "language_info": {
   "codemirror_mode": {
    "name": "ipython",
    "version": 3
   },
   "file_extension": ".py",
   "mimetype": "text/x-python",
   "name": "python",
   "nbconvert_exporter": "python",
   "pygments_lexer": "ipython3",
   "version": "3.9.7"
  }
 },
 "nbformat": 4,
 "nbformat_minor": 5
}
