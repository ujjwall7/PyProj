{
 "cells": [
  {
   "cell_type": "code",
   "execution_count": null,
   "id": "7ee758ba",
   "metadata": {},
   "outputs": [],
   "source": [
    "# dictionary:key:value pair seprated by comma."
   ]
  },
  {
   "cell_type": "code",
   "execution_count": null,
   "id": "e1d9e8b2",
   "metadata": {},
   "outputs": [],
   "source": [
    "# keys are unique."
   ]
  },
  {
   "cell_type": "code",
   "execution_count": null,
   "id": "0fc7970d",
   "metadata": {},
   "outputs": [],
   "source": [
    "# its used carlis bracket."
   ]
  },
  {
   "cell_type": "code",
   "execution_count": null,
   "id": "b51373c3",
   "metadata": {},
   "outputs": [],
   "source": [
    "# it is mutable type.muteable means (changed)."
   ]
  },
  {
   "cell_type": "code",
   "execution_count": 6,
   "id": "c079651b",
   "metadata": {},
   "outputs": [],
   "source": [
    "d1={'apple':'red','mango':'yellow','peach':'brown','grapes':'slages','guava':'green'}"
   ]
  },
  {
   "cell_type": "code",
   "execution_count": null,
   "id": "f3beb26c",
   "metadata": {},
   "outputs": [],
   "source": [
    "name of fruit----color of fruit"
   ]
  },
  {
   "cell_type": "code",
   "execution_count": 8,
   "id": "da076309",
   "metadata": {},
   "outputs": [
    {
     "data": {
      "text/plain": [
       "'red'"
      ]
     },
     "execution_count": 8,
     "metadata": {},
     "output_type": "execute_result"
    }
   ],
   "source": [
    "d1['apple']"
   ]
  },
  {
   "cell_type": "code",
   "execution_count": 9,
   "id": "8542dfab",
   "metadata": {},
   "outputs": [
    {
     "data": {
      "text/plain": [
       "'slages'"
      ]
     },
     "execution_count": 9,
     "metadata": {},
     "output_type": "execute_result"
    }
   ],
   "source": [
    "d1['grapes']"
   ]
  },
  {
   "cell_type": "code",
   "execution_count": 10,
   "id": "6fe0c106",
   "metadata": {},
   "outputs": [
    {
     "data": {
      "text/plain": [
       "'yellow'"
      ]
     },
     "execution_count": 10,
     "metadata": {},
     "output_type": "execute_result"
    }
   ],
   "source": [
    "d1['mango']"
   ]
  },
  {
   "cell_type": "code",
   "execution_count": 12,
   "id": "16409b3e",
   "metadata": {},
   "outputs": [
    {
     "data": {
      "text/plain": [
       "'brown'"
      ]
     },
     "execution_count": 12,
     "metadata": {},
     "output_type": "execute_result"
    }
   ],
   "source": [
    "d1['peach']"
   ]
  },
  {
   "cell_type": "code",
   "execution_count": null,
   "id": "59ab36c5",
   "metadata": {},
   "outputs": [],
   "source": [
    "d1['coconut']='black'"
   ]
  },
  {
   "cell_type": "code",
   "execution_count": 13,
   "id": "876be9f3",
   "metadata": {},
   "outputs": [],
   "source": [
    "d1['ponygrande']='red'"
   ]
  },
  {
   "cell_type": "code",
   "execution_count": 14,
   "id": "e7ee8f61",
   "metadata": {},
   "outputs": [
    {
     "data": {
      "text/plain": [
       "{'apple': 'red',\n",
       " 'mango': 'yellow',\n",
       " 'peach': 'brown',\n",
       " 'grapes': 'slages',\n",
       " 'guava': 'green',\n",
       " 'ponygrande': 'red'}"
      ]
     },
     "execution_count": 14,
     "metadata": {},
     "output_type": "execute_result"
    }
   ],
   "source": [
    "d1"
   ]
  },
  {
   "cell_type": "code",
   "execution_count": null,
   "id": "70e9952e",
   "metadata": {},
   "outputs": [],
   "source": [
    "#  dictionary type"
   ]
  },
  {
   "cell_type": "code",
   "execution_count": 17,
   "id": "d19e5df0",
   "metadata": {},
   "outputs": [],
   "source": [
    "fruit_color={'apple':'red','mango':'yellow','peach':'brown','coconut':'brown','kiwi':'brown'}"
   ]
  },
  {
   "cell_type": "code",
   "execution_count": 18,
   "id": "38af2d35",
   "metadata": {},
   "outputs": [
    {
     "data": {
      "text/plain": [
       "{'apple': 'red',\n",
       " 'mango': 'yellow',\n",
       " 'peach': 'brown',\n",
       " 'coconut': 'brown',\n",
       " 'kiwi': 'brown'}"
      ]
     },
     "execution_count": 18,
     "metadata": {},
     "output_type": "execute_result"
    }
   ],
   "source": [
    "fruit_color"
   ]
  },
  {
   "cell_type": "code",
   "execution_count": 19,
   "id": "4459f7fd",
   "metadata": {},
   "outputs": [
    {
     "data": {
      "text/plain": [
       "dict"
      ]
     },
     "execution_count": 19,
     "metadata": {},
     "output_type": "execute_result"
    }
   ],
   "source": [
    "type(fruit_color)"
   ]
  },
  {
   "cell_type": "code",
   "execution_count": 20,
   "id": "c810ab8c",
   "metadata": {},
   "outputs": [
    {
     "data": {
      "text/plain": [
       "'red'"
      ]
     },
     "execution_count": 20,
     "metadata": {},
     "output_type": "execute_result"
    }
   ],
   "source": [
    "fruit_color['apple']"
   ]
  },
  {
   "cell_type": "code",
   "execution_count": 21,
   "id": "c6cfbf0c",
   "metadata": {},
   "outputs": [
    {
     "data": {
      "text/plain": [
       "'yellow'"
      ]
     },
     "execution_count": 21,
     "metadata": {},
     "output_type": "execute_result"
    }
   ],
   "source": [
    "fruit_color['mango']"
   ]
  },
  {
   "cell_type": "code",
   "execution_count": 22,
   "id": "564d19c9",
   "metadata": {},
   "outputs": [
    {
     "data": {
      "text/plain": [
       "'brown'"
      ]
     },
     "execution_count": 22,
     "metadata": {},
     "output_type": "execute_result"
    }
   ],
   "source": [
    "fruit_color['peach']"
   ]
  },
  {
   "cell_type": "code",
   "execution_count": 24,
   "id": "4ff203e3",
   "metadata": {},
   "outputs": [],
   "source": [
    "fruit_color['banana']='yellow'"
   ]
  },
  {
   "cell_type": "code",
   "execution_count": 25,
   "id": "e45a54ed",
   "metadata": {},
   "outputs": [
    {
     "data": {
      "text/plain": [
       "{'apple': 'red',\n",
       " 'mango': 'yellow',\n",
       " 'peach': 'brown',\n",
       " 'coconut': 'brown',\n",
       " 'kiwi': 'brown',\n",
       " 'banana': 'yellow'}"
      ]
     },
     "execution_count": 25,
     "metadata": {},
     "output_type": "execute_result"
    }
   ],
   "source": [
    "fruit_color"
   ]
  },
  {
   "cell_type": "code",
   "execution_count": 30,
   "id": "49421854",
   "metadata": {},
   "outputs": [],
   "source": [
    "fruit_color['orange']='orange'"
   ]
  },
  {
   "cell_type": "code",
   "execution_count": 31,
   "id": "9e66a6ee",
   "metadata": {},
   "outputs": [
    {
     "data": {
      "text/plain": [
       "{'apple': 'red',\n",
       " 'mango': 'yellow',\n",
       " 'peach': 'brown',\n",
       " 'coconut': 'brown',\n",
       " 'kiwi': 'brown',\n",
       " 'banana': 'yellow',\n",
       " 'orange': 'orange'}"
      ]
     },
     "execution_count": 31,
     "metadata": {},
     "output_type": "execute_result"
    }
   ],
   "source": [
    "fruit_color"
   ]
  },
  {
   "cell_type": "code",
   "execution_count": 32,
   "id": "e5d95249",
   "metadata": {},
   "outputs": [
    {
     "data": {
      "text/plain": [
       "dict_keys(['apple', 'mango', 'peach', 'coconut', 'kiwi', 'banana', 'orange'])"
      ]
     },
     "execution_count": 32,
     "metadata": {},
     "output_type": "execute_result"
    }
   ],
   "source": [
    "fruit_color.keys()"
   ]
  },
  {
   "cell_type": "code",
   "execution_count": 35,
   "id": "c6cb7edf",
   "metadata": {},
   "outputs": [
    {
     "data": {
      "text/plain": [
       "dict_values(['red', 'yellow', 'brown', 'brown', 'brown', 'yellow', 'orange'])"
      ]
     },
     "execution_count": 35,
     "metadata": {},
     "output_type": "execute_result"
    }
   ],
   "source": [
    "fruit_color.values()"
   ]
  },
  {
   "cell_type": "code",
   "execution_count": 37,
   "id": "0678c2d7",
   "metadata": {},
   "outputs": [],
   "source": [
    "d1=[100,200,300,400,500]"
   ]
  },
  {
   "cell_type": "code",
   "execution_count": 38,
   "id": "1e156253",
   "metadata": {},
   "outputs": [],
   "source": [
    "d2=[2000,3000,4000]"
   ]
  },
  {
   "cell_type": "code",
   "execution_count": 39,
   "id": "5639fe26",
   "metadata": {},
   "outputs": [],
   "source": [
    "d3=[[12,13],[14,15],[16,17],[20,30,40]]"
   ]
  },
  {
   "cell_type": "code",
   "execution_count": 40,
   "id": "66d20df4",
   "metadata": {},
   "outputs": [
    {
     "data": {
      "text/plain": [
       "[100, 200, 300, 400, 500]"
      ]
     },
     "execution_count": 40,
     "metadata": {},
     "output_type": "execute_result"
    }
   ],
   "source": [
    "d1"
   ]
  },
  {
   "cell_type": "code",
   "execution_count": 41,
   "id": "e9a75880",
   "metadata": {},
   "outputs": [
    {
     "data": {
      "text/plain": [
       "[2000, 3000, 4000]"
      ]
     },
     "execution_count": 41,
     "metadata": {},
     "output_type": "execute_result"
    }
   ],
   "source": [
    "d2"
   ]
  },
  {
   "cell_type": "code",
   "execution_count": 42,
   "id": "26737d30",
   "metadata": {},
   "outputs": [
    {
     "data": {
      "text/plain": [
       "17"
      ]
     },
     "execution_count": 42,
     "metadata": {},
     "output_type": "execute_result"
    }
   ],
   "source": [
    "d3[2][1]"
   ]
  },
  {
   "cell_type": "code",
   "execution_count": 43,
   "id": "a57cb8fe",
   "metadata": {},
   "outputs": [
    {
     "data": {
      "text/plain": [
       "101"
      ]
     },
     "execution_count": 43,
     "metadata": {},
     "output_type": "execute_result"
    }
   ],
   "source": [
    "a=101\n",
    "a"
   ]
  },
  {
   "cell_type": "code",
   "execution_count": 50,
   "id": "37f3213e",
   "metadata": {},
   "outputs": [
    {
     "data": {
      "text/plain": [
       "101"
      ]
     },
     "execution_count": 50,
     "metadata": {},
     "output_type": "execute_result"
    }
   ],
   "source": [
    "int('0x65',16)"
   ]
  },
  {
   "cell_type": "code",
   "execution_count": 45,
   "id": "5fdcd7e5",
   "metadata": {},
   "outputs": [
    {
     "data": {
      "text/plain": [
       "'0x65'"
      ]
     },
     "execution_count": 45,
     "metadata": {},
     "output_type": "execute_result"
    }
   ],
   "source": [
    "hex(a)"
   ]
  },
  {
   "cell_type": "code",
   "execution_count": 46,
   "id": "afac4b7a",
   "metadata": {},
   "outputs": [
    {
     "data": {
      "text/plain": [
       "'0o145'"
      ]
     },
     "execution_count": 46,
     "metadata": {},
     "output_type": "execute_result"
    }
   ],
   "source": [
    "oct(a)"
   ]
  },
  {
   "cell_type": "code",
   "execution_count": 51,
   "id": "6fd4a7af",
   "metadata": {},
   "outputs": [
    {
     "data": {
      "text/plain": [
       "10"
      ]
     },
     "execution_count": 51,
     "metadata": {},
     "output_type": "execute_result"
    }
   ],
   "source": [
    "a=10\n",
    "a"
   ]
  },
  {
   "cell_type": "code",
   "execution_count": 52,
   "id": "107f70fb",
   "metadata": {},
   "outputs": [
    {
     "data": {
      "text/plain": [
       "'0o12'"
      ]
     },
     "execution_count": 52,
     "metadata": {},
     "output_type": "execute_result"
    }
   ],
   "source": [
    "oct(a)"
   ]
  },
  {
   "cell_type": "code",
   "execution_count": 53,
   "id": "44319df4",
   "metadata": {},
   "outputs": [
    {
     "data": {
      "text/plain": [
       "'0xa'"
      ]
     },
     "execution_count": 53,
     "metadata": {},
     "output_type": "execute_result"
    }
   ],
   "source": [
    "hex(a)"
   ]
  },
  {
   "cell_type": "code",
   "execution_count": 54,
   "id": "15ada882",
   "metadata": {},
   "outputs": [
    {
     "data": {
      "text/plain": [
       "'0b1010'"
      ]
     },
     "execution_count": 54,
     "metadata": {},
     "output_type": "execute_result"
    }
   ],
   "source": [
    "bin(a)"
   ]
  },
  {
   "cell_type": "code",
   "execution_count": 55,
   "id": "58ddf7a2",
   "metadata": {},
   "outputs": [
    {
     "data": {
      "text/plain": [
       "10"
      ]
     },
     "execution_count": 55,
     "metadata": {},
     "output_type": "execute_result"
    }
   ],
   "source": [
    "int('0b1010',2)"
   ]
  },
  {
   "cell_type": "code",
   "execution_count": 58,
   "id": "98a6a4d9",
   "metadata": {},
   "outputs": [
    {
     "data": {
      "text/plain": [
       "10"
      ]
     },
     "execution_count": 58,
     "metadata": {},
     "output_type": "execute_result"
    }
   ],
   "source": [
    "int('0xa',16)"
   ]
  },
  {
   "cell_type": "code",
   "execution_count": 59,
   "id": "bf861581",
   "metadata": {},
   "outputs": [
    {
     "data": {
      "text/plain": [
       "10"
      ]
     },
     "execution_count": 59,
     "metadata": {},
     "output_type": "execute_result"
    }
   ],
   "source": [
    "int('0012',8)"
   ]
  },
  {
   "cell_type": "code",
   "execution_count": 62,
   "id": "ca81a1d3",
   "metadata": {},
   "outputs": [
    {
     "data": {
      "text/plain": [
       "98"
      ]
     },
     "execution_count": 62,
     "metadata": {},
     "output_type": "execute_result"
    }
   ],
   "source": [
    "a=98\n",
    "a"
   ]
  },
  {
   "cell_type": "code",
   "execution_count": 63,
   "id": "d6d23fa8",
   "metadata": {},
   "outputs": [
    {
     "data": {
      "text/plain": [
       "'0b1100010'"
      ]
     },
     "execution_count": 63,
     "metadata": {},
     "output_type": "execute_result"
    }
   ],
   "source": [
    "bin(98)"
   ]
  },
  {
   "cell_type": "code",
   "execution_count": 65,
   "id": "a963f293",
   "metadata": {},
   "outputs": [
    {
     "data": {
      "text/plain": [
       "'0x62'"
      ]
     },
     "execution_count": 65,
     "metadata": {},
     "output_type": "execute_result"
    }
   ],
   "source": [
    "hex(98)"
   ]
  },
  {
   "cell_type": "code",
   "execution_count": 66,
   "id": "96693ba1",
   "metadata": {},
   "outputs": [
    {
     "data": {
      "text/plain": [
       "'0o142'"
      ]
     },
     "execution_count": 66,
     "metadata": {},
     "output_type": "execute_result"
    }
   ],
   "source": [
    "oct(98)"
   ]
  },
  {
   "cell_type": "code",
   "execution_count": 70,
   "id": "0473b643",
   "metadata": {},
   "outputs": [
    {
     "data": {
      "text/plain": [
       "98"
      ]
     },
     "execution_count": 70,
     "metadata": {},
     "output_type": "execute_result"
    }
   ],
   "source": [
    "int('00142',8)"
   ]
  },
  {
   "cell_type": "code",
   "execution_count": 72,
   "id": "5d92f84d",
   "metadata": {},
   "outputs": [
    {
     "data": {
      "text/plain": [
       "98"
      ]
     },
     "execution_count": 72,
     "metadata": {},
     "output_type": "execute_result"
    }
   ],
   "source": [
    "int('0x62',16)"
   ]
  },
  {
   "cell_type": "code",
   "execution_count": null,
   "id": "294f1442",
   "metadata": {},
   "outputs": [],
   "source": []
  }
 ],
 "metadata": {
  "kernelspec": {
   "display_name": "Python 3 (ipykernel)",
   "language": "python",
   "name": "python3"
  },
  "language_info": {
   "codemirror_mode": {
    "name": "ipython",
    "version": 3
   },
   "file_extension": ".py",
   "mimetype": "text/x-python",
   "name": "python",
   "nbconvert_exporter": "python",
   "pygments_lexer": "ipython3",
   "version": "3.9.7"
  }
 },
 "nbformat": 4,
 "nbformat_minor": 5
}
