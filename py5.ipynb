{
 "cells": [
  {
   "cell_type": "code",
   "execution_count": 4,
   "id": "0438570a",
   "metadata": {},
   "outputs": [],
   "source": [
    "city=['new delhi']"
   ]
  },
  {
   "cell_type": "code",
   "execution_count": null,
   "id": "dd769e9d",
   "metadata": {},
   "outputs": [],
   "source": [
    "slice-(extract substitute of a string)."
   ]
  },
  {
   "cell_type": "code",
   "execution_count": null,
   "id": "e16fd0d5",
   "metadata": {},
   "outputs": [],
   "source": [
    "[start:end:steps]"
   ]
  },
  {
   "cell_type": "code",
   "execution_count": null,
   "id": "3e078ce8",
   "metadata": {},
   "outputs": [],
   "source": [
    "end -is upper limit"
   ]
  },
  {
   "cell_type": "code",
   "execution_count": 6,
   "id": "61d38413",
   "metadata": {},
   "outputs": [
    {
     "data": {
      "text/plain": [
       "['new delhi']"
      ]
     },
     "execution_count": 6,
     "metadata": {},
     "output_type": "execute_result"
    }
   ],
   "source": [
    "city[:]"
   ]
  },
  {
   "cell_type": "code",
   "execution_count": 7,
   "id": "9af972c2",
   "metadata": {},
   "outputs": [
    {
     "data": {
      "text/plain": [
       "['new delhi']"
      ]
     },
     "execution_count": 7,
     "metadata": {},
     "output_type": "execute_result"
    }
   ],
   "source": [
    "city[0:]"
   ]
  },
  {
   "cell_type": "code",
   "execution_count": 12,
   "id": "6515ab70",
   "metadata": {},
   "outputs": [
    {
     "data": {
      "text/plain": [
       "['new delhi']"
      ]
     },
     "execution_count": 12,
     "metadata": {},
     "output_type": "execute_result"
    }
   ],
   "source": [
    "city[0:9]"
   ]
  },
  {
   "cell_type": "code",
   "execution_count": 30,
   "id": "c0181b3f",
   "metadata": {},
   "outputs": [
    {
     "data": {
      "text/plain": [
       "9"
      ]
     },
     "execution_count": 30,
     "metadata": {},
     "output_type": "execute_result"
    }
   ],
   "source": [
    "len('new delhi')\n",
    "\n"
   ]
  },
  {
   "cell_type": "code",
   "execution_count": 28,
   "id": "d67d0b2e",
   "metadata": {},
   "outputs": [],
   "source": [
    "city='new delhi'"
   ]
  },
  {
   "cell_type": "code",
   "execution_count": 29,
   "id": "3ad95557",
   "metadata": {},
   "outputs": [
    {
     "data": {
      "text/plain": [
       "'delhi'"
      ]
     },
     "execution_count": 29,
     "metadata": {},
     "output_type": "execute_result"
    }
   ],
   "source": [
    "city[4:9]"
   ]
  },
  {
   "cell_type": "code",
   "execution_count": 31,
   "id": "ee6203a1",
   "metadata": {},
   "outputs": [
    {
     "data": {
      "text/plain": [
       "'w delh'"
      ]
     },
     "execution_count": 31,
     "metadata": {},
     "output_type": "execute_result"
    }
   ],
   "source": [
    "city[2:8]"
   ]
  },
  {
   "cell_type": "code",
   "execution_count": 33,
   "id": "31f8c6ee",
   "metadata": {},
   "outputs": [
    {
     "data": {
      "text/plain": [
       "''"
      ]
     },
     "execution_count": 33,
     "metadata": {},
     "output_type": "execute_result"
    }
   ],
   "source": [
    "city[-2:-7]"
   ]
  },
  {
   "cell_type": "code",
   "execution_count": 34,
   "id": "00dddca8",
   "metadata": {},
   "outputs": [
    {
     "data": {
      "text/plain": [
       "''"
      ]
     },
     "execution_count": 34,
     "metadata": {},
     "output_type": "execute_result"
    }
   ],
   "source": [
    "city[-1:-9]"
   ]
  },
  {
   "cell_type": "code",
   "execution_count": 35,
   "id": "8af54bfe",
   "metadata": {},
   "outputs": [
    {
     "data": {
      "text/plain": [
       "'new '"
      ]
     },
     "execution_count": 35,
     "metadata": {},
     "output_type": "execute_result"
    }
   ],
   "source": [
    "city[0:4]"
   ]
  },
  {
   "cell_type": "code",
   "execution_count": 36,
   "id": "ff4a13fa",
   "metadata": {},
   "outputs": [
    {
     "data": {
      "text/plain": [
       "''"
      ]
     },
     "execution_count": 36,
     "metadata": {},
     "output_type": "execute_result"
    }
   ],
   "source": [
    "city[-1:-10:2]"
   ]
  },
  {
   "cell_type": "code",
   "execution_count": null,
   "id": "df786e50",
   "metadata": {},
   "outputs": [],
   "source": [
    "city[-1]"
   ]
  }
 ],
 "metadata": {
  "kernelspec": {
   "display_name": "Python 3 (ipykernel)",
   "language": "python",
   "name": "python3"
  },
  "language_info": {
   "codemirror_mode": {
    "name": "ipython",
    "version": 3
   },
   "file_extension": ".py",
   "mimetype": "text/x-python",
   "name": "python",
   "nbconvert_exporter": "python",
   "pygments_lexer": "ipython3",
   "version": "3.9.7"
  }
 },
 "nbformat": 4,
 "nbformat_minor": 5
}
