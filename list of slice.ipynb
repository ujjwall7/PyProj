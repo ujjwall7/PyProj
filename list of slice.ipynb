{
 "cells": [
  {
   "cell_type": "code",
   "execution_count": 21,
   "id": "fd209234",
   "metadata": {},
   "outputs": [],
   "source": [
    "items= [1,2,3,4]"
   ]
  },
  {
   "cell_type": "code",
   "execution_count": 22,
   "id": "ce2f7e8c",
   "metadata": {},
   "outputs": [],
   "source": [
    "items.append(20)\n"
   ]
  },
  {
   "cell_type": "code",
   "execution_count": 23,
   "id": "dbf9d634",
   "metadata": {},
   "outputs": [
    {
     "data": {
      "text/plain": [
       "[1, 2, 3, 4, 20]"
      ]
     },
     "execution_count": 23,
     "metadata": {},
     "output_type": "execute_result"
    }
   ],
   "source": [
    "items"
   ]
  },
  {
   "cell_type": "code",
   "execution_count": 24,
   "id": "bb15cae0",
   "metadata": {},
   "outputs": [],
   "source": [
    "name=[20,30,90,80,20,40,50,60]"
   ]
  },
  {
   "cell_type": "code",
   "execution_count": 25,
   "id": "c1007e82",
   "metadata": {},
   "outputs": [],
   "source": [
    "name.append('hello')"
   ]
  },
  {
   "cell_type": "code",
   "execution_count": 26,
   "id": "2861ffe6",
   "metadata": {},
   "outputs": [
    {
     "data": {
      "text/plain": [
       "[20, 30, 90, 80, 20, 40, 50, 60, 'hello']"
      ]
     },
     "execution_count": 26,
     "metadata": {},
     "output_type": "execute_result"
    }
   ],
   "source": [
    "name"
   ]
  },
  {
   "cell_type": "raw",
   "id": "af46bad6",
   "metadata": {},
   "source": []
  },
  {
   "cell_type": "code",
   "execution_count": 27,
   "id": "b2acd68a",
   "metadata": {},
   "outputs": [
    {
     "data": {
      "text/plain": [
       "list"
      ]
     },
     "execution_count": 27,
     "metadata": {},
     "output_type": "execute_result"
    }
   ],
   "source": [
    "type(items)"
   ]
  },
  {
   "cell_type": "code",
   "execution_count": 28,
   "id": "f558bca6",
   "metadata": {},
   "outputs": [
    {
     "data": {
      "text/plain": [
       "list"
      ]
     },
     "execution_count": 28,
     "metadata": {},
     "output_type": "execute_result"
    }
   ],
   "source": [
    "type(items)"
   ]
  },
  {
   "cell_type": "markdown",
   "id": "d68550c7",
   "metadata": {},
   "source": [
    "items.clear()"
   ]
  },
  {
   "cell_type": "code",
   "execution_count": 30,
   "id": "940563db",
   "metadata": {},
   "outputs": [],
   "source": [
    "items=[1,2,3,4,5]"
   ]
  },
  {
   "cell_type": "code",
   "execution_count": 31,
   "id": "18123cbe",
   "metadata": {},
   "outputs": [],
   "source": [
    "items.clear()"
   ]
  },
  {
   "cell_type": "code",
   "execution_count": 32,
   "id": "ae0a3fd8",
   "metadata": {},
   "outputs": [
    {
     "data": {
      "text/plain": [
       "[]"
      ]
     },
     "execution_count": 32,
     "metadata": {},
     "output_type": "execute_result"
    }
   ],
   "source": [
    "items"
   ]
  },
  {
   "cell_type": "code",
   "execution_count": 37,
   "id": "81227056",
   "metadata": {},
   "outputs": [],
   "source": [
    "item1=[1,2,3,4,5]"
   ]
  },
  {
   "cell_type": "code",
   "execution_count": 38,
   "id": "fd711960",
   "metadata": {},
   "outputs": [],
   "source": [
    "item2=item1"
   ]
  },
  {
   "cell_type": "code",
   "execution_count": 40,
   "id": "b8b67882",
   "metadata": {},
   "outputs": [
    {
     "data": {
      "text/plain": [
       "[1, 2, 3, 4, 5]"
      ]
     },
     "execution_count": 40,
     "metadata": {},
     "output_type": "execute_result"
    }
   ],
   "source": [
    "item1"
   ]
  },
  {
   "cell_type": "code",
   "execution_count": 39,
   "id": "1ea40f2a",
   "metadata": {},
   "outputs": [
    {
     "data": {
      "text/plain": [
       "[1, 2, 3, 4, 5]"
      ]
     },
     "execution_count": 39,
     "metadata": {},
     "output_type": "execute_result"
    }
   ],
   "source": [
    "item2"
   ]
  },
  {
   "cell_type": "code",
   "execution_count": 42,
   "id": "05af23ef",
   "metadata": {},
   "outputs": [],
   "source": [
    "item2[0]=11"
   ]
  },
  {
   "cell_type": "code",
   "execution_count": null,
   "id": "aee19a37",
   "metadata": {},
   "outputs": [],
   "source": [
    "item1[3]=15"
   ]
  },
  {
   "cell_type": "code",
   "execution_count": 44,
   "id": "3e484655",
   "metadata": {},
   "outputs": [
    {
     "data": {
      "text/plain": [
       "[11, 2, 3, 4, 5]"
      ]
     },
     "execution_count": 44,
     "metadata": {},
     "output_type": "execute_result"
    }
   ],
   "source": [
    "item2"
   ]
  },
  {
   "cell_type": "markdown",
   "id": "fb5c4df3",
   "metadata": {},
   "source": []
  },
  {
   "cell_type": "code",
   "execution_count": 43,
   "id": "c2b188fa",
   "metadata": {},
   "outputs": [
    {
     "data": {
      "text/plain": [
       "[11, 2, 3, 4, 5]"
      ]
     },
     "execution_count": 43,
     "metadata": {},
     "output_type": "execute_result"
    }
   ],
   "source": [
    "item1"
   ]
  },
  {
   "cell_type": "code",
   "execution_count": 45,
   "id": "b6ee1cee",
   "metadata": {},
   "outputs": [
    {
     "data": {
      "text/plain": [
       "[11, 2, 3, 4, 5]"
      ]
     },
     "execution_count": 45,
     "metadata": {},
     "output_type": "execute_result"
    }
   ],
   "source": [
    "item1"
   ]
  },
  {
   "cell_type": "markdown",
   "id": "60630fe8",
   "metadata": {},
   "source": []
  },
  {
   "cell_type": "code",
   "execution_count": null,
   "id": "7d5fcd00",
   "metadata": {},
   "outputs": [],
   "source": [
    "item2[4]=18"
   ]
  },
  {
   "cell_type": "code",
   "execution_count": 46,
   "id": "c626f7d9",
   "metadata": {},
   "outputs": [
    {
     "data": {
      "text/plain": [
       "[11, 2, 3, 4, 5]"
      ]
     },
     "execution_count": 46,
     "metadata": {},
     "output_type": "execute_result"
    }
   ],
   "source": [
    "item1"
   ]
  },
  {
   "cell_type": "code",
   "execution_count": 47,
   "id": "50731293",
   "metadata": {},
   "outputs": [
    {
     "data": {
      "text/plain": [
       "[11, 2, 3, 4, 5]"
      ]
     },
     "execution_count": 47,
     "metadata": {},
     "output_type": "execute_result"
    }
   ],
   "source": [
    "item2"
   ]
  },
  {
   "cell_type": "code",
   "execution_count": null,
   "id": "bb7f9d4e",
   "metadata": {},
   "outputs": [],
   "source": [
    "item1=[11,12,13,14,15,16]"
   ]
  },
  {
   "cell_type": "code",
   "execution_count": null,
   "id": "19e87fc8",
   "metadata": {},
   "outputs": [],
   "source": [
    "item1=item2"
   ]
  },
  {
   "cell_type": "code",
   "execution_count": 48,
   "id": "96523a2e",
   "metadata": {},
   "outputs": [
    {
     "data": {
      "text/plain": [
       "[11, 2, 3, 4, 5]"
      ]
     },
     "execution_count": 48,
     "metadata": {},
     "output_type": "execute_result"
    }
   ],
   "source": [
    "item1"
   ]
  },
  {
   "cell_type": "code",
   "execution_count": 49,
   "id": "174340b6",
   "metadata": {},
   "outputs": [
    {
     "data": {
      "text/plain": [
       "[11, 2, 3, 4, 5]"
      ]
     },
     "execution_count": 49,
     "metadata": {},
     "output_type": "execute_result"
    }
   ],
   "source": [
    "item2"
   ]
  },
  {
   "cell_type": "code",
   "execution_count": null,
   "id": "a08142e3",
   "metadata": {},
   "outputs": [],
   "source": [
    "item1=[1,2,3,4,5]"
   ]
  },
  {
   "cell_type": "code",
   "execution_count": 50,
   "id": "59b0a7bf",
   "metadata": {},
   "outputs": [
    {
     "data": {
      "text/plain": [
       "2748911704000"
      ]
     },
     "execution_count": 50,
     "metadata": {},
     "output_type": "execute_result"
    }
   ],
   "source": [
    "id(item1)"
   ]
  },
  {
   "cell_type": "code",
   "execution_count": 51,
   "id": "8e58e595",
   "metadata": {},
   "outputs": [
    {
     "data": {
      "text/plain": [
       "2748911704000"
      ]
     },
     "execution_count": 51,
     "metadata": {},
     "output_type": "execute_result"
    }
   ],
   "source": [
    "id(item2)"
   ]
  },
  {
   "cell_type": "code",
   "execution_count": 52,
   "id": "44ab8881",
   "metadata": {},
   "outputs": [
    {
     "data": {
      "text/plain": [
       "2748911702848"
      ]
     },
     "execution_count": 52,
     "metadata": {},
     "output_type": "execute_result"
    }
   ],
   "source": [
    "item1=[1,2,3,4,5]\n",
    "id(item1)"
   ]
  },
  {
   "cell_type": "code",
   "execution_count": 53,
   "id": "8df6c9b3",
   "metadata": {},
   "outputs": [
    {
     "data": {
      "text/plain": [
       "2748910874112"
      ]
     },
     "execution_count": 53,
     "metadata": {},
     "output_type": "execute_result"
    }
   ],
   "source": [
    "item2=item1.copy()\n",
    "id(item2)"
   ]
  },
  {
   "cell_type": "code",
   "execution_count": 54,
   "id": "cfbc7651",
   "metadata": {},
   "outputs": [
    {
     "data": {
      "text/plain": [
       "[11, 2, 3, 4, 5]"
      ]
     },
     "execution_count": 54,
     "metadata": {},
     "output_type": "execute_result"
    }
   ],
   "source": [
    "item2[0]=11\n",
    "item2"
   ]
  },
  {
   "cell_type": "code",
   "execution_count": 55,
   "id": "d647d92c",
   "metadata": {},
   "outputs": [
    {
     "data": {
      "text/plain": [
       "[1, 2, 45, 4, 5]"
      ]
     },
     "execution_count": 55,
     "metadata": {},
     "output_type": "execute_result"
    }
   ],
   "source": [
    "item1[2]=45\n",
    "item1"
   ]
  },
  {
   "cell_type": "code",
   "execution_count": 56,
   "id": "6b348eac",
   "metadata": {},
   "outputs": [
    {
     "data": {
      "text/plain": [
       "[1, 2, 45, 4, 5]"
      ]
     },
     "execution_count": 56,
     "metadata": {},
     "output_type": "execute_result"
    }
   ],
   "source": [
    "item1"
   ]
  },
  {
   "cell_type": "code",
   "execution_count": 57,
   "id": "701f9405",
   "metadata": {},
   "outputs": [
    {
     "data": {
      "text/plain": [
       "[11, 2, 3, 4, 5]"
      ]
     },
     "execution_count": 57,
     "metadata": {},
     "output_type": "execute_result"
    }
   ],
   "source": [
    "item2"
   ]
  },
  {
   "cell_type": "code",
   "execution_count": 58,
   "id": "74886467",
   "metadata": {},
   "outputs": [
    {
     "data": {
      "text/plain": [
       "[1, 2, 45, 4, 5, 11, 2, 3, 4, 5]"
      ]
     },
     "execution_count": 58,
     "metadata": {},
     "output_type": "execute_result"
    }
   ],
   "source": [
    "item1+item2"
   ]
  },
  {
   "cell_type": "code",
   "execution_count": null,
   "id": "82ee11db",
   "metadata": {},
   "outputs": [],
   "source": [
    "item1*2"
   ]
  },
  {
   "cell_type": "code",
   "execution_count": null,
   "id": "fc99788e",
   "metadata": {},
   "outputs": [],
   "source": []
  },
  {
   "cell_type": "code",
   "execution_count": null,
   "id": "c5f2e1fc",
   "metadata": {},
   "outputs": [],
   "source": []
  },
  {
   "cell_type": "code",
   "execution_count": null,
   "id": "995b08b9",
   "metadata": {},
   "outputs": [],
   "source": []
  },
  {
   "cell_type": "code",
   "execution_count": null,
   "id": "8c23f6c0",
   "metadata": {},
   "outputs": [],
   "source": []
  }
 ],
 "metadata": {
  "kernelspec": {
   "display_name": "Python 3 (ipykernel)",
   "language": "python",
   "name": "python3"
  },
  "language_info": {
   "codemirror_mode": {
    "name": "ipython",
    "version": 3
   },
   "file_extension": ".py",
   "mimetype": "text/x-python",
   "name": "python",
   "nbconvert_exporter": "python",
   "pygments_lexer": "ipython3",
   "version": "3.9.7"
  }
 },
 "nbformat": 4,
 "nbformat_minor": 5
}
