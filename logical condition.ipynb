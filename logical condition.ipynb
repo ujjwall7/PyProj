{
 "cells": [
  {
   "cell_type": "code",
   "execution_count": 1,
   "id": "eb1cf366",
   "metadata": {},
   "outputs": [
    {
     "name": "stdout",
     "output_type": "stream",
     "text": [
      "45 odd number\n"
     ]
    }
   ],
   "source": [
    "n=45\n",
    "if n%2==0:\n",
    "    print(n,'even number')\n",
    "else:\n",
    "    print(n,'odd number')"
   ]
  },
  {
   "cell_type": "code",
   "execution_count": 4,
   "id": "b154610c",
   "metadata": {},
   "outputs": [
    {
     "name": "stdout",
     "output_type": "stream",
     "text": [
      "enter any number78\n",
      "78 even number\n"
     ]
    }
   ],
   "source": [
    "n=int(input('enter any number'))\n",
    "if n%2==0:\n",
    "    print(n,'even number')\n",
    "else:\n",
    "    print(n,'odd number')"
   ]
  },
  {
   "cell_type": "code",
   "execution_count": 16,
   "id": "cbe0b593",
   "metadata": {},
   "outputs": [
    {
     "name": "stdout",
     "output_type": "stream",
     "text": [
      "enter your full namechandan mishra\n",
      "last_name: mishra\n"
     ]
    }
   ],
   "source": [
    "full_name=input('enter your full name')\n",
    "full_name=full_name.split()\n",
    "print('last_name:',full_name[-1])"
   ]
  },
  {
   "cell_type": "code",
   "execution_count": 18,
   "id": "9bec1754",
   "metadata": {},
   "outputs": [
    {
     "name": "stdout",
     "output_type": "stream",
     "text": [
      "enter any number:56668\n",
      "86665 reverse of the number:\n"
     ]
    }
   ],
   "source": [
    "n=input('enter any number:')\n",
    "n=n[::-1]\n",
    "print(n,'reverse of the number:')"
   ]
  },
  {
   "cell_type": "code",
   "execution_count": 22,
   "id": "4bd5c673",
   "metadata": {},
   "outputs": [
    {
     "name": "stdout",
     "output_type": "stream",
     "text": [
      "enter any number567\n",
      "7 least integer of the number\n"
     ]
    }
   ],
   "source": [
    "n=input('enter any number')\n",
    "n=int(n)\n",
    "rem=n % 10\n",
    "print(rem,'least integer of the number')"
   ]
  },
  {
   "cell_type": "code",
   "execution_count": null,
   "id": "ae148598",
   "metadata": {},
   "outputs": [],
   "source": [
    "n=input('enter any number')\n",
    "n=int(n)\n",
    "rem=n % 10\n",
    "print(rem,'least integer of the number')"
   ]
  },
  {
   "cell_type": "code",
   "execution_count": null,
   "id": "849d85f8",
   "metadata": {},
   "outputs": [],
   "source": [
    "fruit=input('enter fruit name')\n",
    "if fruit=='apple':\n",
    "    print('100')\n",
    "elif fruit=='mango':\n",
    "    print('60')\n",
    "elif fruit=='pine appple':\n",
    "    print('50')\n",
    "elif fruit=='peach':\n",
    "    print('30')\n",
    "elif fruit=='kivi':\n",
    "    print('40')\n",
    "else:\n",
    "    print('not in stock other fruit',fruit)\n"
   ]
  },
  {
   "cell_type": "markdown",
   "id": "6faf17fb",
   "metadata": {},
   "source": [
    "# start for loop :\n",
    "### here method is two start loop in for:"
   ]
  },
  {
   "cell_type": "markdown",
   "id": "dd0c05ac",
   "metadata": {},
   "source": []
  },
  {
   "cell_type": "code",
   "execution_count": null,
   "id": "f672819e",
   "metadata": {},
   "outputs": [],
   "source": [
    "\n",
    "for i in range(0:20):\n",
    "    if i % 2==0:\n",
    "        even_ number_list.append(i):\n",
    "            print(even_number_list)"
   ]
  },
  {
   "cell_type": "code",
   "execution_count": null,
   "id": "c3e28a6d",
   "metadata": {},
   "outputs": [],
   "source": []
  },
  {
   "cell_type": "code",
   "execution_count": null,
   "id": "286c9e72",
   "metadata": {},
   "outputs": [],
   "source": []
  }
 ],
 "metadata": {
  "kernelspec": {
   "display_name": "Python 3 (ipykernel)",
   "language": "python",
   "name": "python3"
  },
  "language_info": {
   "codemirror_mode": {
    "name": "ipython",
    "version": 3
   },
   "file_extension": ".py",
   "mimetype": "text/x-python",
   "name": "python",
   "nbconvert_exporter": "python",
   "pygments_lexer": "ipython3",
   "version": "3.9.7"
  }
 },
 "nbformat": 4,
 "nbformat_minor": 5
}
