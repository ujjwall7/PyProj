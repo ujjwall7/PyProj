{
 "cells": [
  {
   "cell_type": "code",
   "execution_count": 1,
   "id": "1e54d87d",
   "metadata": {},
   "outputs": [
    {
     "data": {
      "text/plain": [
       "[1, 2, 3, 4, 5, 6, 7]"
      ]
     },
     "execution_count": 1,
     "metadata": {},
     "output_type": "execute_result"
    }
   ],
   "source": [
    "item1=[1,2,3,4,5,6,7]\n",
    "item1"
   ]
  },
  {
   "cell_type": "code",
   "execution_count": 2,
   "id": "e0b24a06",
   "metadata": {},
   "outputs": [
    {
     "data": {
      "text/plain": [
       "1"
      ]
     },
     "execution_count": 2,
     "metadata": {},
     "output_type": "execute_result"
    }
   ],
   "source": [
    "item1.count(1)"
   ]
  },
  {
   "cell_type": "code",
   "execution_count": 5,
   "id": "c300640e",
   "metadata": {},
   "outputs": [],
   "source": [
    "pocket=[1,1,3,4,1,11,12,13,]"
   ]
  },
  {
   "cell_type": "code",
   "execution_count": 6,
   "id": "13b23d11",
   "metadata": {},
   "outputs": [
    {
     "data": {
      "text/plain": [
       "3"
      ]
     },
     "execution_count": 6,
     "metadata": {},
     "output_type": "execute_result"
    }
   ],
   "source": [
    "pocket.count(1)"
   ]
  },
  {
   "cell_type": "code",
   "execution_count": 8,
   "id": "5e087ec1",
   "metadata": {},
   "outputs": [],
   "source": [
    "thing=[2,2,3,4,3,2,5,4,5,65,4]"
   ]
  },
  {
   "cell_type": "code",
   "execution_count": 9,
   "id": "809fea5f",
   "metadata": {},
   "outputs": [
    {
     "data": {
      "text/plain": [
       "3"
      ]
     },
     "execution_count": 9,
     "metadata": {},
     "output_type": "execute_result"
    }
   ],
   "source": [
    "thing.count(2)"
   ]
  },
  {
   "cell_type": "code",
   "execution_count": 10,
   "id": "55946188",
   "metadata": {},
   "outputs": [
    {
     "data": {
      "text/plain": [
       "[1, 2, 3, 4, 5, 6, 7, 20]"
      ]
     },
     "execution_count": 10,
     "metadata": {},
     "output_type": "execute_result"
    }
   ],
   "source": [
    "item1.append(20)\n",
    "item1"
   ]
  },
  {
   "cell_type": "code",
   "execution_count": 11,
   "id": "36b8ca11",
   "metadata": {},
   "outputs": [],
   "source": [
    "item1.append('deepak kumar chaubey')"
   ]
  },
  {
   "cell_type": "code",
   "execution_count": 12,
   "id": "a576aff3",
   "metadata": {},
   "outputs": [
    {
     "data": {
      "text/plain": [
       "[1, 2, 3, 4, 5, 6, 7, 20, 'deepak kumar chaubey']"
      ]
     },
     "execution_count": 12,
     "metadata": {},
     "output_type": "execute_result"
    }
   ],
   "source": [
    "item1"
   ]
  },
  {
   "cell_type": "code",
   "execution_count": 16,
   "id": "60f94443",
   "metadata": {},
   "outputs": [
    {
     "data": {
      "text/plain": [
       "[1, 2, 3, 4, 5, 6, 7, 8]"
      ]
     },
     "execution_count": 16,
     "metadata": {},
     "output_type": "execute_result"
    }
   ],
   "source": [
    "item1=[1,2,3,4]\n",
    "item2=[5,6,7,8]\n",
    "item1,item2\n",
    "item1+item2\n"
   ]
  },
  {
   "cell_type": "code",
   "execution_count": 17,
   "id": "69a9a656",
   "metadata": {},
   "outputs": [
    {
     "data": {
      "text/plain": [
       "[1, 2, 3, 4, 5, 6, 7, 8]"
      ]
     },
     "execution_count": 17,
     "metadata": {},
     "output_type": "execute_result"
    }
   ],
   "source": [
    "item1.extend(item2)\n",
    "item1"
   ]
  },
  {
   "cell_type": "code",
   "execution_count": 18,
   "id": "3c3a4229",
   "metadata": {},
   "outputs": [
    {
     "data": {
      "text/plain": [
       "0"
      ]
     },
     "execution_count": 18,
     "metadata": {},
     "output_type": "execute_result"
    }
   ],
   "source": [
    "item1.index(1)"
   ]
  },
  {
   "cell_type": "code",
   "execution_count": 19,
   "id": "a8e19798",
   "metadata": {},
   "outputs": [
    {
     "data": {
      "text/plain": [
       "1"
      ]
     },
     "execution_count": 19,
     "metadata": {},
     "output_type": "execute_result"
    }
   ],
   "source": [
    "item1.index(2)"
   ]
  },
  {
   "cell_type": "code",
   "execution_count": 23,
   "id": "82c7451c",
   "metadata": {},
   "outputs": [],
   "source": [
    "item2=['apple','mango','orange','grapes','peach']"
   ]
  },
  {
   "cell_type": "code",
   "execution_count": 24,
   "id": "09cda418",
   "metadata": {},
   "outputs": [
    {
     "data": {
      "text/plain": [
       "['apple', 'mango', 'orange', 'grapes', 'peach']"
      ]
     },
     "execution_count": 24,
     "metadata": {},
     "output_type": "execute_result"
    }
   ],
   "source": [
    "item2"
   ]
  },
  {
   "cell_type": "code",
   "execution_count": 29,
   "id": "8df9ccb5",
   "metadata": {},
   "outputs": [
    {
     "data": {
      "text/plain": [
       "2"
      ]
     },
     "execution_count": 29,
     "metadata": {},
     "output_type": "execute_result"
    }
   ],
   "source": [
    "item2.index('orange')"
   ]
  },
  {
   "cell_type": "code",
   "execution_count": 30,
   "id": "2b6b9fd1",
   "metadata": {},
   "outputs": [
    {
     "data": {
      "text/plain": [
       "3"
      ]
     },
     "execution_count": 30,
     "metadata": {},
     "output_type": "execute_result"
    }
   ],
   "source": [
    "item2.index('grapes')"
   ]
  },
  {
   "cell_type": "code",
   "execution_count": 31,
   "id": "106cd36e",
   "metadata": {},
   "outputs": [
    {
     "data": {
      "text/plain": [
       "0"
      ]
     },
     "execution_count": 31,
     "metadata": {},
     "output_type": "execute_result"
    }
   ],
   "source": [
    "item2.index('apple')"
   ]
  },
  {
   "cell_type": "code",
   "execution_count": 32,
   "id": "963e205e",
   "metadata": {},
   "outputs": [
    {
     "data": {
      "text/plain": [
       "4"
      ]
     },
     "execution_count": 32,
     "metadata": {},
     "output_type": "execute_result"
    }
   ],
   "source": [
    "item2.index('peach')"
   ]
  },
  {
   "cell_type": "markdown",
   "id": "a4b79c0a",
   "metadata": {},
   "source": [
    "item1"
   ]
  },
  {
   "cell_type": "code",
   "execution_count": 33,
   "id": "79b93371",
   "metadata": {},
   "outputs": [
    {
     "data": {
      "text/plain": [
       "[1, 2, 3, 4, 5, 6, 7, 8]"
      ]
     },
     "execution_count": 33,
     "metadata": {},
     "output_type": "execute_result"
    }
   ],
   "source": [
    "item1"
   ]
  },
  {
   "cell_type": "code",
   "execution_count": 48,
   "id": "7a1db32b",
   "metadata": {},
   "outputs": [
    {
     "data": {
      "text/plain": [
       "[10, 30, 10, 'genius', 'genius', 10, 1, 30, 500, 500, 2, 3, 4, 5, 6, 7, 8]"
      ]
     },
     "execution_count": 48,
     "metadata": {},
     "output_type": "execute_result"
    }
   ],
   "source": [
    "item1.insert(1,30)\n",
    "item1"
   ]
  },
  {
   "cell_type": "code",
   "execution_count": 47,
   "id": "8ec0842c",
   "metadata": {},
   "outputs": [
    {
     "data": {
      "text/plain": [
       "[10, 10, 'genius', 'genius', 10, 1, 30, 500, 500, 2, 3, 4, 5, 6, 7, 8]"
      ]
     },
     "execution_count": 47,
     "metadata": {},
     "output_type": "execute_result"
    }
   ],
   "source": [
    "item1.insert(0,10)\n",
    "item1"
   ]
  },
  {
   "cell_type": "code",
   "execution_count": 37,
   "id": "f99f06bc",
   "metadata": {},
   "outputs": [
    {
     "data": {
      "text/plain": [
       "[10, 1, 30, 500, 500, 2, 3, 4, 5, 6, 7, 8]"
      ]
     },
     "execution_count": 37,
     "metadata": {},
     "output_type": "execute_result"
    }
   ],
   "source": [
    "item1.insert(3,500)\n",
    "item1"
   ]
  },
  {
   "cell_type": "code",
   "execution_count": 38,
   "id": "18254b2a",
   "metadata": {},
   "outputs": [
    {
     "data": {
      "text/plain": [
       "['apple', 'mango', 'hello', 'orange', 'grapes', 'peach']"
      ]
     },
     "execution_count": 38,
     "metadata": {},
     "output_type": "execute_result"
    }
   ],
   "source": [
    "item2.insert(2,'hello')\n",
    "item2"
   ]
  },
  {
   "cell_type": "code",
   "execution_count": 40,
   "id": "51dbfbba",
   "metadata": {},
   "outputs": [
    {
     "data": {
      "text/plain": [
       "['genius', 'genius', 10, 1, 30, 500, 500, 2, 3, 4, 5, 6, 7, 8]"
      ]
     },
     "execution_count": 40,
     "metadata": {},
     "output_type": "execute_result"
    }
   ],
   "source": [
    "item1.insert(0,'genius')\n",
    "item1"
   ]
  },
  {
   "cell_type": "code",
   "execution_count": 41,
   "id": "f712ea9f",
   "metadata": {},
   "outputs": [
    {
     "data": {
      "text/plain": [
       "['sugar', 'tea', 'cup', 'milk', 'zinger', 'water', 'long', 'black chilli']"
      ]
     },
     "execution_count": 41,
     "metadata": {},
     "output_type": "execute_result"
    }
   ],
   "source": [
    "name=['sugar','tea','cup','milk','zinger','water','long','black chilli']\n",
    "name"
   ]
  },
  {
   "cell_type": "code",
   "execution_count": 42,
   "id": "be3e0a91",
   "metadata": {},
   "outputs": [
    {
     "data": {
      "text/plain": [
       "['sugar',\n",
       " 'make tea',\n",
       " 'tea',\n",
       " 'cup',\n",
       " 'milk',\n",
       " 'zinger',\n",
       " 'water',\n",
       " 'long',\n",
       " 'black chilli']"
      ]
     },
     "execution_count": 42,
     "metadata": {},
     "output_type": "execute_result"
    }
   ],
   "source": [
    "name.insert(1,'make tea')\n",
    "name"
   ]
  },
  {
   "cell_type": "code",
   "execution_count": 43,
   "id": "701ee7a3",
   "metadata": {},
   "outputs": [
    {
     "data": {
      "text/plain": [
       "['sugar',\n",
       " 'make tea',\n",
       " 'ingredient',\n",
       " 'tea',\n",
       " 'cup',\n",
       " 'milk',\n",
       " 'zinger',\n",
       " 'water',\n",
       " 'long',\n",
       " 'black chilli']"
      ]
     },
     "execution_count": 43,
     "metadata": {},
     "output_type": "execute_result"
    }
   ],
   "source": [
    "name.insert(2,'ingredient')\n",
    "name"
   ]
  },
  {
   "cell_type": "code",
   "execution_count": 44,
   "id": "29995fbf",
   "metadata": {},
   "outputs": [
    {
     "data": {
      "text/plain": [
       "['sugar',\n",
       " 'make tea',\n",
       " 'ingredient',\n",
       " 'guest',\n",
       " 'tea',\n",
       " 'cup',\n",
       " 'milk',\n",
       " 'zinger',\n",
       " 'water',\n",
       " 'long',\n",
       " 'black chilli']"
      ]
     },
     "execution_count": 44,
     "metadata": {},
     "output_type": "execute_result"
    }
   ],
   "source": [
    "name.insert(3,'guest')\n",
    "name"
   ]
  },
  {
   "cell_type": "code",
   "execution_count": 45,
   "id": "a5a09695",
   "metadata": {},
   "outputs": [
    {
     "data": {
      "text/plain": [
       "['sugar',\n",
       " 'make tea',\n",
       " 'ingredient',\n",
       " 'guest',\n",
       " 'good',\n",
       " 'tea',\n",
       " 'cup',\n",
       " 'milk',\n",
       " 'zinger',\n",
       " 'water',\n",
       " 'long',\n",
       " 'black chilli']"
      ]
     },
     "execution_count": 45,
     "metadata": {},
     "output_type": "execute_result"
    }
   ],
   "source": [
    "name.insert(4,'good')\n",
    "name"
   ]
  },
  {
   "cell_type": "code",
   "execution_count": 49,
   "id": "caa1aaf3",
   "metadata": {},
   "outputs": [
    {
     "data": {
      "text/plain": [
       "[376, 780, 876, 543, 345, 780, 98]"
      ]
     },
     "execution_count": 49,
     "metadata": {},
     "output_type": "execute_result"
    }
   ],
   "source": [
    "address=[376,780,876,543,345,780,98]\n",
    "address"
   ]
  },
  {
   "cell_type": "code",
   "execution_count": 50,
   "id": "c06495cd",
   "metadata": {},
   "outputs": [
    {
     "data": {
      "text/plain": [
       "list"
      ]
     },
     "execution_count": 50,
     "metadata": {},
     "output_type": "execute_result"
    }
   ],
   "source": [
    "type(address)"
   ]
  },
  {
   "cell_type": "code",
   "execution_count": 51,
   "id": "96a6f97d",
   "metadata": {},
   "outputs": [
    {
     "data": {
      "text/plain": [
       "[780, 876, 543, 345, 780, 98]"
      ]
     },
     "execution_count": 51,
     "metadata": {},
     "output_type": "execute_result"
    }
   ],
   "source": [
    "address.pop(0)\n",
    "address"
   ]
  },
  {
   "cell_type": "code",
   "execution_count": 54,
   "id": "e3c0cb9a",
   "metadata": {},
   "outputs": [
    {
     "data": {
      "text/plain": [
       "[780, 876, 543, 780, 98]"
      ]
     },
     "execution_count": 54,
     "metadata": {},
     "output_type": "execute_result"
    }
   ],
   "source": [
    "address.pop(3)\n",
    "address"
   ]
  },
  {
   "cell_type": "code",
   "execution_count": 55,
   "id": "d5c28792",
   "metadata": {},
   "outputs": [
    {
     "data": {
      "text/plain": [
       "[780, 543, 780, 98]"
      ]
     },
     "execution_count": 55,
     "metadata": {},
     "output_type": "execute_result"
    }
   ],
   "source": [
    "address.pop(1)\n",
    "address"
   ]
  },
  {
   "cell_type": "code",
   "execution_count": 57,
   "id": "d76aa4d6",
   "metadata": {},
   "outputs": [],
   "source": [
    "raj=[1,2,3,4,5,6,7,8,2,3,1,4,5,6]"
   ]
  },
  {
   "cell_type": "code",
   "execution_count": 58,
   "id": "c8146d7e",
   "metadata": {},
   "outputs": [
    {
     "data": {
      "text/plain": [
       "[1, 3, 4, 5, 6, 7, 8, 2, 3, 1, 4, 5, 6]"
      ]
     },
     "execution_count": 58,
     "metadata": {},
     "output_type": "execute_result"
    }
   ],
   "source": [
    "raj.remove(2)\n",
    "raj"
   ]
  },
  {
   "cell_type": "code",
   "execution_count": 59,
   "id": "39346cd3",
   "metadata": {},
   "outputs": [
    {
     "data": {
      "text/plain": [
       "[1, 3, 5, 6, 7, 8, 2, 3, 1, 4, 5, 6]"
      ]
     },
     "execution_count": 59,
     "metadata": {},
     "output_type": "execute_result"
    }
   ],
   "source": [
    "raj.remove(4)\n",
    "raj"
   ]
  },
  {
   "cell_type": "code",
   "execution_count": 60,
   "id": "ca1ce017",
   "metadata": {},
   "outputs": [
    {
     "data": {
      "text/plain": [
       "[6, 5, 4, 1, 3, 2, 8, 7, 6, 5, 3, 1]"
      ]
     },
     "execution_count": 60,
     "metadata": {},
     "output_type": "execute_result"
    }
   ],
   "source": [
    "raj.reverse()\n",
    "raj"
   ]
  },
  {
   "cell_type": "code",
   "execution_count": 61,
   "id": "fcac2b39",
   "metadata": {},
   "outputs": [
    {
     "data": {
      "text/plain": [
       "[8, 7, 6, 5, 4, 3, 2, 500, 500, 30, 1, 10, 'genius', 'genius', 10, 30, 10]"
      ]
     },
     "execution_count": 61,
     "metadata": {},
     "output_type": "execute_result"
    }
   ],
   "source": [
    "item1.reverse()\n",
    "item1"
   ]
  },
  {
   "cell_type": "code",
   "execution_count": 64,
   "id": "3119893b",
   "metadata": {},
   "outputs": [],
   "source": [
    "kamal=['jdu','akalidal','shivsena','aiims']"
   ]
  },
  {
   "cell_type": "code",
   "execution_count": 74,
   "id": "0f507356",
   "metadata": {},
   "outputs": [],
   "source": [
    "madhu=[35,98,60,56,9,91,80,90]"
   ]
  },
  {
   "cell_type": "code",
   "execution_count": 73,
   "id": "a148572d",
   "metadata": {},
   "outputs": [
    {
     "data": {
      "text/plain": [
       "['aiims', 'akalidal', 'jdu', 'shivsena']"
      ]
     },
     "execution_count": 73,
     "metadata": {},
     "output_type": "execute_result"
    }
   ],
   "source": [
    "kamal.sort()\n",
    "kamal"
   ]
  },
  {
   "cell_type": "code",
   "execution_count": 75,
   "id": "f2c3b47c",
   "metadata": {},
   "outputs": [
    {
     "data": {
      "text/plain": [
       "[9, 35, 56, 60, 80, 90, 91, 98]"
      ]
     },
     "execution_count": 75,
     "metadata": {},
     "output_type": "execute_result"
    }
   ],
   "source": [
    "madhu.sort()\n",
    "madhu"
   ]
  },
  {
   "cell_type": "code",
   "execution_count": 78,
   "id": "bbdfbf30",
   "metadata": {},
   "outputs": [
    {
     "data": {
      "text/plain": [
       "(1, 2, 3, 4)"
      ]
     },
     "execution_count": 78,
     "metadata": {},
     "output_type": "execute_result"
    }
   ],
   "source": [
    "item=(1,2,3,4)\n",
    "type(item)\n",
    "item"
   ]
  },
  {
   "cell_type": "code",
   "execution_count": 79,
   "id": "cba2d44d",
   "metadata": {},
   "outputs": [
    {
     "data": {
      "text/plain": [
       "tuple"
      ]
     },
     "execution_count": 79,
     "metadata": {},
     "output_type": "execute_result"
    }
   ],
   "source": [
    "type(item)"
   ]
  },
  {
   "cell_type": "code",
   "execution_count": 81,
   "id": "d194d9c8",
   "metadata": {},
   "outputs": [
    {
     "data": {
      "text/plain": [
       "[6, 5, 4, 1, 3, 2, 8, 7, 6, 5, 3, 1]"
      ]
     },
     "execution_count": 81,
     "metadata": {},
     "output_type": "execute_result"
    }
   ],
   "source": [
    "raj\n"
   ]
  },
  {
   "cell_type": "code",
   "execution_count": 85,
   "id": "80dfaaf6",
   "metadata": {},
   "outputs": [
    {
     "data": {
      "text/plain": [
       "[1, 1, 2, 3, 3, 4, 5, 5, 6, 6, 7, 8]"
      ]
     },
     "execution_count": 85,
     "metadata": {},
     "output_type": "execute_result"
    }
   ],
   "source": [
    "raj.sort()\n",
    "raj"
   ]
  },
  {
   "cell_type": "code",
   "execution_count": 87,
   "id": "f7c2a119",
   "metadata": {},
   "outputs": [],
   "source": [
    "name1='neha panchal'"
   ]
  },
  {
   "cell_type": "code",
   "execution_count": 90,
   "id": "0c34b7f4",
   "metadata": {},
   "outputs": [
    {
     "data": {
      "text/plain": [
       "['sugar',\n",
       " 'make tea',\n",
       " 'ingredient',\n",
       " 'guest',\n",
       " 'good',\n",
       " 'tea',\n",
       " 'cup',\n",
       " 'milk',\n",
       " 'zinger',\n",
       " 'water',\n",
       " 'long',\n",
       " 'black chilli']"
      ]
     },
     "execution_count": 90,
     "metadata": {},
     "output_type": "execute_result"
    }
   ],
   "source": [
    "name1[2]\n",
    "name"
   ]
  },
  {
   "cell_type": "code",
   "execution_count": 91,
   "id": "8a90ece2",
   "metadata": {},
   "outputs": [
    {
     "data": {
      "text/plain": [
       "['sugar',\n",
       " 'make tea',\n",
       " 'ingredient',\n",
       " 'guest',\n",
       " 'good',\n",
       " 'tea',\n",
       " 'cup',\n",
       " 'milk',\n",
       " 'zinger',\n",
       " 'water',\n",
       " 'long',\n",
       " 'black chilli']"
      ]
     },
     "execution_count": 91,
     "metadata": {},
     "output_type": "execute_result"
    }
   ],
   "source": [
    "name[8]\n",
    "name"
   ]
  },
  {
   "cell_type": "code",
   "execution_count": null,
   "id": "e6c1fde7",
   "metadata": {},
   "outputs": [],
   "source": [
    "name[12]\n",
    "name"
   ]
  },
  {
   "cell_type": "code",
   "execution_count": null,
   "id": "54b3ba9f",
   "metadata": {},
   "outputs": [],
   "source": []
  },
  {
   "cell_type": "code",
   "execution_count": null,
   "id": "384ab29d",
   "metadata": {},
   "outputs": [],
   "source": []
  },
  {
   "cell_type": "code",
   "execution_count": null,
   "id": "db424872",
   "metadata": {},
   "outputs": [],
   "source": []
  }
 ],
 "metadata": {
  "kernelspec": {
   "display_name": "Python 3 (ipykernel)",
   "language": "python",
   "name": "python3"
  },
  "language_info": {
   "codemirror_mode": {
    "name": "ipython",
    "version": 3
   },
   "file_extension": ".py",
   "mimetype": "text/x-python",
   "name": "python",
   "nbconvert_exporter": "python",
   "pygments_lexer": "ipython3",
   "version": "3.9.7"
  }
 },
 "nbformat": 4,
 "nbformat_minor": 5
}
