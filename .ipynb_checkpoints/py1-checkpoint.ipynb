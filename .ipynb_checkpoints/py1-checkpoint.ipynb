{
 "cells": [
  {
   "cell_type": "code",
   "execution_count": 1,
   "id": "fc1fb077",
   "metadata": {},
   "outputs": [],
   "source": [
    "info='delhi chills during winter'"
   ]
  },
  {
   "cell_type": "code",
   "execution_count": 8,
   "id": "5f94c201",
   "metadata": {},
   "outputs": [
    {
     "data": {
      "text/plain": [
       "'DELHI CHILLS DURING WINTER'"
      ]
     },
     "execution_count": 8,
     "metadata": {},
     "output_type": "execute_result"
    }
   ],
   "source": [
    "info.upper()"
   ]
  },
  {
   "cell_type": "code",
   "execution_count": 9,
   "id": "7f7ecc65",
   "metadata": {},
   "outputs": [
    {
     "data": {
      "text/plain": [
       "'delhi chills during winter'"
      ]
     },
     "execution_count": 9,
     "metadata": {},
     "output_type": "execute_result"
    }
   ],
   "source": [
    "info.lower()"
   ]
  },
  {
   "cell_type": "code",
   "execution_count": 25,
   "id": "54ad9bfb",
   "metadata": {},
   "outputs": [
    {
     "data": {
      "text/plain": [
       "['retniw', 'gnirud', 'sllihc', 'ihleD']"
      ]
     },
     "execution_count": 25,
     "metadata": {},
     "output_type": "execute_result"
    }
   ],
   "source": [
    "info.capitalize()[::-1].split()"
   ]
  },
  {
   "cell_type": "code",
   "execution_count": null,
   "id": "55466020",
   "metadata": {},
   "outputs": [],
   "source": []
  },
  {
   "cell_type": "code",
   "execution_count": null,
   "id": "d50c8af6",
   "metadata": {},
   "outputs": [],
   "source": []
  },
  {
   "cell_type": "code",
   "execution_count": null,
   "id": "390657b6",
   "metadata": {},
   "outputs": [],
   "source": []
  }
 ],
 "metadata": {
  "kernelspec": {
   "display_name": "Python 3 (ipykernel)",
   "language": "python",
   "name": "python3"
  },
  "language_info": {
   "codemirror_mode": {
    "name": "ipython",
    "version": 3
   },
   "file_extension": ".py",
   "mimetype": "text/x-python",
   "name": "python",
   "nbconvert_exporter": "python",
   "pygments_lexer": "ipython3",
   "version": "3.9.7"
  }
 },
 "nbformat": 4,
 "nbformat_minor": 5
}
