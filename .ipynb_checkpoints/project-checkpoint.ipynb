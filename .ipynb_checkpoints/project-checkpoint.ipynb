{
 "cells": [
  {
   "cell_type": "code",
   "execution_count": 11,
   "id": "b968d106",
   "metadata": {},
   "outputs": [
    {
     "name": "stdout",
     "output_type": "stream",
     "text": [
      "enter week number=8\n",
      "error\n"
     ]
    }
   ],
   "source": [
    "n=int(input('enter week number='))\n",
    "if n==1:\n",
    "    print('sunday')\n",
    "elif n==2:\n",
    "    print('monday')\n",
    "elif n==3:\n",
    "    print('tuesday')\n",
    "elif n==4:\n",
    "    print('wednesday')\n",
    "elif n==5:\n",
    "    print('thursday')\n",
    "elif n==6:\n",
    "    print('friday')\n",
    "elif n==7:\n",
    "    print('saturday')\n",
    "else:\n",
    "    print('error')"
   ]
  },
  {
   "cell_type": "code",
   "execution_count": null,
   "id": "29ea60d0",
   "metadata": {},
   "outputs": [],
   "source": [
    "n=int(input('enter any number'))\n",
    "if n>0:\n",
    "    print('number positive')\n",
    "elif n<0:\n",
    "    print('number negtive')\n",
    "else:\n",
    "    print()"
   ]
  },
  {
   "cell_type": "code",
   "execution_count": 10,
   "id": "10347e3d",
   "metadata": {},
   "outputs": [
    {
     "data": {
      "text/plain": [
       "81"
      ]
     },
     "execution_count": 10,
     "metadata": {},
     "output_type": "execute_result"
    }
   ],
   "source": [
    "# lambda fn\n",
    "# is called anonymous fn or ad her fn.\n",
    "square=lambda x:x**2\n",
    "square(9)\n"
   ]
  },
  {
   "cell_type": "code",
   "execution_count": 11,
   "id": "57eb813f",
   "metadata": {},
   "outputs": [
    {
     "data": {
      "text/plain": [
       "[13, 32, 42, 18, 19]"
      ]
     },
     "execution_count": 11,
     "metadata": {},
     "output_type": "execute_result"
    }
   ],
   "source": [
    "# map reduce\n",
    "items=[13,32,42,18,19]\n",
    "items.sort\n",
    "items"
   ]
  },
  {
   "cell_type": "code",
   "execution_count": 12,
   "id": "d3c01806",
   "metadata": {},
   "outputs": [
    {
     "data": {
      "text/plain": [
       "'olleh'"
      ]
     },
     "execution_count": 12,
     "metadata": {},
     "output_type": "execute_result"
    }
   ],
   "source": [
    "revstr=lambda msg :msg[::-1]\n",
    "revstr('hello')\n"
   ]
  },
  {
   "cell_type": "code",
   "execution_count": null,
   "id": "902e83a9",
   "metadata": {},
   "outputs": [],
   "source": []
  },
  {
   "cell_type": "code",
   "execution_count": null,
   "id": "916698ee",
   "metadata": {},
   "outputs": [],
   "source": []
  },
  {
   "cell_type": "code",
   "execution_count": null,
   "id": "692ed472",
   "metadata": {},
   "outputs": [],
   "source": []
  },
  {
   "cell_type": "code",
   "execution_count": null,
   "id": "086b968b",
   "metadata": {},
   "outputs": [],
   "source": []
  },
  {
   "cell_type": "code",
   "execution_count": null,
   "id": "19a152f1",
   "metadata": {},
   "outputs": [],
   "source": []
  }
 ],
 "metadata": {
  "kernelspec": {
   "display_name": "Python 3 (ipykernel)",
   "language": "python",
   "name": "python3"
  },
  "language_info": {
   "codemirror_mode": {
    "name": "ipython",
    "version": 3
   },
   "file_extension": ".py",
   "mimetype": "text/x-python",
   "name": "python",
   "nbconvert_exporter": "python",
   "pygments_lexer": "ipython3",
   "version": "3.9.7"
  }
 },
 "nbformat": 4,
 "nbformat_minor": 5
}
