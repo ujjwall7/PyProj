{
 "cells": [
  {
   "cell_type": "code",
   "execution_count": 1,
   "id": "42f33506",
   "metadata": {},
   "outputs": [],
   "source": [
    "fr=open('deepak.txt',mode='r')"
   ]
  },
  {
   "cell_type": "code",
   "execution_count": 2,
   "id": "f8dba938",
   "metadata": {},
   "outputs": [
    {
     "data": {
      "text/plain": [
       "'ms dhoni charge one match 1lakh rs,but rohit charge 2lakh\\\\match.'"
      ]
     },
     "execution_count": 2,
     "metadata": {},
     "output_type": "execute_result"
    }
   ],
   "source": [
    "fr.read()"
   ]
  },
  {
   "cell_type": "code",
   "execution_count": 3,
   "id": "b0b7eef3",
   "metadata": {},
   "outputs": [
    {
     "data": {
      "text/plain": [
       "''"
      ]
     },
     "execution_count": 3,
     "metadata": {},
     "output_type": "execute_result"
    }
   ],
   "source": [
    "fr.read()"
   ]
  },
  {
   "cell_type": "code",
   "execution_count": 4,
   "id": "f74b98ae",
   "metadata": {},
   "outputs": [],
   "source": [
    "fr.close()"
   ]
  },
  {
   "cell_type": "code",
   "execution_count": 11,
   "id": "f46b3ac1",
   "metadata": {},
   "outputs": [
    {
     "name": "stdout",
     "output_type": "stream",
     "text": [
      "ms dhoni charge one match 1lakh rs,but rohit charge 2lakh\\match.\n"
     ]
    }
   ],
   "source": [
    "fr=open('deepak.txt')\n",
    "t=fr.read()\n",
    "print(t)\n"
   ]
  },
  {
   "cell_type": "code",
   "execution_count": 16,
   "id": "235a76f8",
   "metadata": {},
   "outputs": [
    {
     "data": {
      "text/plain": [
       "'ms dhoni c'"
      ]
     },
     "execution_count": 16,
     "metadata": {},
     "output_type": "execute_result"
    }
   ],
   "source": [
    "fr.read(10)"
   ]
  },
  {
   "cell_type": "code",
   "execution_count": 14,
   "id": "54058013",
   "metadata": {},
   "outputs": [
    {
     "data": {
      "text/plain": [
       "0"
      ]
     },
     "execution_count": 14,
     "metadata": {},
     "output_type": "execute_result"
    }
   ],
   "source": [
    "fr.seek(0)"
   ]
  },
  {
   "cell_type": "code",
   "execution_count": 17,
   "id": "5021a5c9",
   "metadata": {},
   "outputs": [
    {
     "data": {
      "text/plain": [
       "'harge one match 1lak'"
      ]
     },
     "execution_count": 17,
     "metadata": {},
     "output_type": "execute_result"
    }
   ],
   "source": [
    "fr.read(20)"
   ]
  },
  {
   "cell_type": "code",
   "execution_count": 19,
   "id": "9873aea1",
   "metadata": {},
   "outputs": [
    {
     "data": {
      "text/plain": [
       "20"
      ]
     },
     "execution_count": 19,
     "metadata": {},
     "output_type": "execute_result"
    }
   ],
   "source": [
    "fr.seek(20)"
   ]
  },
  {
   "cell_type": "code",
   "execution_count": 26,
   "id": "f0a02cbe",
   "metadata": {},
   "outputs": [
    {
     "name": "stdout",
     "output_type": "stream",
     "text": [
      "ms dhoni charge one match 1lakh rs,but rohit charge 2lakh\\match.\n"
     ]
    }
   ],
   "source": [
    "t\n",
    "print(t)"
   ]
  },
  {
   "cell_type": "code",
   "execution_count": 32,
   "id": "fa1fa56d",
   "metadata": {},
   "outputs": [
    {
     "ename": "SyntaxError",
     "evalue": "invalid syntax (Temp/ipykernel_2592/2963188464.py, line 1)",
     "output_type": "error",
     "traceback": [
      "\u001b[1;36m  File \u001b[1;32m\"C:\\Users\\DELL\\AppData\\Local\\Temp/ipykernel_2592/2963188464.py\"\u001b[1;36m, line \u001b[1;32m1\u001b[0m\n\u001b[1;33m    m=\u001b[0m\n\u001b[1;37m      ^\u001b[0m\n\u001b[1;31mSyntaxError\u001b[0m\u001b[1;31m:\u001b[0m invalid syntax\n"
     ]
    }
   ],
   "source": [
    "sr,name,charges\n",
    "1,'vaishali',500\n",
    "2,'reeta',1000\n",
    "3,'geeta',1200\n",
    "4,'sunita',1500\n",
    "5,'neeta',1200\n",
    "\n",
    "\n",
    "\n"
   ]
  },
  {
   "cell_type": "code",
   "execution_count": 49,
   "id": "047c2e0a",
   "metadata": {},
   "outputs": [
    {
     "name": "stdout",
     "output_type": "stream",
     "text": [
      "deepak is work continousely in design project.\n",
      "here deepak is not work properly design work so its work is pending .\n",
      "deepak is work continousely in design project. here deepak is not work properly design work so its work is pending .\n"
     ]
    }
   ],
   "source": [
    "fr=open('hello_design.text',mode='r')\n",
    "content=fr.read()\n",
    "print(content)\n",
    "fr=open('hello_not_design.text')\n",
    "context=fr.read()\n",
    "print(context)\n",
    "\n",
    "print(content,context)\n",
    "\n",
    "\n",
    "\n"
   ]
  },
  {
   "cell_type": "code",
   "execution_count": 4,
   "id": "955d9030",
   "metadata": {},
   "outputs": [],
   "source": [
    "fa=open(\"indu_invoice.txt\",mode=\"a\")\n"
   ]
  },
  {
   "cell_type": "code",
   "execution_count": null,
   "id": "9028551d",
   "metadata": {},
   "outputs": [],
   "source": [
    "fa.write(\"written in an append mode\")"
   ]
  },
  {
   "cell_type": "code",
   "execution_count": null,
   "id": "6feefa5d",
   "metadata": {},
   "outputs": [],
   "source": [
    "fa.close()"
   ]
  },
  {
   "cell_type": "code",
   "execution_count": null,
   "id": "c686911d",
   "metadata": {},
   "outputs": [],
   "source": [
    "frw=open(\"indu_invoice.txt\",mode=\"r+\")"
   ]
  },
  {
   "cell_type": "code",
   "execution_count": 5,
   "id": "88d5e0ef",
   "metadata": {},
   "outputs": [
    {
     "ename": "NameError",
     "evalue": "name 'frw' is not defined",
     "output_type": "error",
     "traceback": [
      "\u001b[1;31m---------------------------------------------------------------------------\u001b[0m",
      "\u001b[1;31mNameError\u001b[0m                                 Traceback (most recent call last)",
      "\u001b[1;32m~\\AppData\\Local\\Temp/ipykernel_18956/2299933640.py\u001b[0m in \u001b[0;36m<module>\u001b[1;34m\u001b[0m\n\u001b[1;32m----> 1\u001b[1;33m \u001b[0mfrw\u001b[0m\u001b[1;33m.\u001b[0m\u001b[0mread\u001b[0m\u001b[1;33m(\u001b[0m\u001b[1;33m)\u001b[0m\u001b[1;33m\u001b[0m\u001b[1;33m\u001b[0m\u001b[0m\n\u001b[0m",
      "\u001b[1;31mNameError\u001b[0m: name 'frw' is not defined"
     ]
    }
   ],
   "source": [
    "frw.read()"
   ]
  },
  {
   "cell_type": "code",
   "execution_count": null,
   "id": "cb498684",
   "metadata": {},
   "outputs": [],
   "source": []
  },
  {
   "cell_type": "code",
   "execution_count": null,
   "id": "00707f19",
   "metadata": {},
   "outputs": [],
   "source": []
  },
  {
   "cell_type": "code",
   "execution_count": null,
   "id": "ec950e51",
   "metadata": {},
   "outputs": [],
   "source": []
  },
  {
   "cell_type": "code",
   "execution_count": null,
   "id": "14edf48e",
   "metadata": {},
   "outputs": [],
   "source": []
  }
 ],
 "metadata": {
  "kernelspec": {
   "display_name": "Python 3 (ipykernel)",
   "language": "python",
   "name": "python3"
  },
  "language_info": {
   "codemirror_mode": {
    "name": "ipython",
    "version": 3
   },
   "file_extension": ".py",
   "mimetype": "text/x-python",
   "name": "python",
   "nbconvert_exporter": "python",
   "pygments_lexer": "ipython3",
   "version": "3.9.7"
  }
 },
 "nbformat": 4,
 "nbformat_minor": 5
}
