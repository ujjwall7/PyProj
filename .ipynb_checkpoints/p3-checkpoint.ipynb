{
 "cells": [
  {
   "cell_type": "code",
   "execution_count": null,
   "metadata": {},
   "outputs": [],
   "source": [
    "num=[1,2,3,4,5]"
   ]
  },
  {
   "cell_type": "markdown",
   "id": "18c60f94",
   "metadata": {},
   "source": [
    "nun=[56,67,56]"
   ]
  },
  {
   "cell_type": "code",
   "execution_count": null,
   "id": "5638ab71",
   "metadata": {},
   "outputs": [],
   "source": [
    "c=num+nun"
   ]
  },
  {
   "cell_type": "code",
   "execution_count": null,
   "id": "05d84849",
   "metadata": {},
   "outputs": [],
   "source": [
    "c=num*3"
   ]
  },
  {
   "cell_type": "code",
   "execution_count": null,
   "id": "2cb7a5f0",
   "metadata": {},
   "outputs": [],
   "source": []
  }
 ],
 "metadata": {
  "language_info": {
   "name": "plaintext"
  }
 },
 "nbformat": 4,
 "nbformat_minor": 5
}
