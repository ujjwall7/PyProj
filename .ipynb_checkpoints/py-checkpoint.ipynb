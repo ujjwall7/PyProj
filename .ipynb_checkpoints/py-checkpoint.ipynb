{
 "cells": [
  {
   "cell_type": "code",
   "execution_count": 1,
   "id": "83f40a3d",
   "metadata": {},
   "outputs": [],
   "source": [
    "items=['apple','mango',['peach','guavav',60],[40,50,60],'hello']"
   ]
  },
  {
   "cell_type": "code",
   "execution_count": 3,
   "id": "ce195b51",
   "metadata": {},
   "outputs": [],
   "source": [
    "items=[0]"
   ]
  },
  {
   "cell_type": "code",
   "execution_count": null,
   "id": "cd97ef98",
   "metadata": {},
   "outputs": [],
   "source": [
    "items=[1]"
   ]
  },
  {
   "cell_type": "code",
   "execution_count": 4,
   "id": "ee05ae75",
   "metadata": {},
   "outputs": [],
   "source": [
    "items=[2]"
   ]
  },
  {
   "cell_type": "code",
   "execution_count": 8,
   "id": "5b82b2d7",
   "metadata": {},
   "outputs": [],
   "source": [
    "items=[2][1]"
   ]
  },
  {
   "cell_type": "code",
   "execution_count": 19,
   "id": "a092fefd",
   "metadata": {},
   "outputs": [],
   "source": [
    "items=[2][2]"
   ]
  },
  {
   "cell_type": "code",
   "execution_count": 16,
   "id": "d73ae644",
   "metadata": {},
   "outputs": [],
   "source": [
    "items=[3][0]"
   ]
  },
  {
   "cell_type": "code",
   "execution_count": 17,
   "id": "a6e5cf4e",
   "metadata": {},
   "outputs": [],
   "source": [
    "items=[3][::-1]"
   ]
  },
  {
   "cell_type": "code",
   "execution_count": 22,
   "id": "b7a87cca",
   "metadata": {},
   "outputs": [],
   "source": [
    "items=[3][2]"
   ]
  },
  {
   "cell_type": "code",
   "execution_count": 13,
   "id": "521098b5",
   "metadata": {},
   "outputs": [],
   "source": [
    "items=[4][0]"
   ]
  },
  {
   "cell_type": "code",
   "execution_count": 25,
   "id": "f8189603",
   "metadata": {},
   "outputs": [],
   "source": [
    "items=[4][0:4]"
   ]
  },
  {
   "cell_type": "code",
   "execution_count": 26,
   "id": "8b4aa2a1",
   "metadata": {},
   "outputs": [],
   "source": [
    "items=[4][::-3]"
   ]
  },
  {
   "cell_type": "code",
   "execution_count": null,
   "id": "a6e3c698",
   "metadata": {},
   "outputs": [],
   "source": []
  }
 ],
 "metadata": {
  "kernelspec": {
   "display_name": "Python 3 (ipykernel)",
   "language": "python",
   "name": "python3"
  },
  "language_info": {
   "codemirror_mode": {
    "name": "ipython",
    "version": 3
   },
   "file_extension": ".py",
   "mimetype": "text/x-python",
   "name": "python",
   "nbconvert_exporter": "python",
   "pygments_lexer": "ipython3",
   "version": "3.9.7"
  }
 },
 "nbformat": 4,
 "nbformat_minor": 5
}
