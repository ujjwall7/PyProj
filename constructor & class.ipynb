{
 "cells": [
  {
   "cell_type": "code",
   "execution_count": 10,
   "id": "7add0359",
   "metadata": {},
   "outputs": [
    {
     "name": "stdout",
     "output_type": "stream",
     "text": [
      "rollno 1\n",
      "name: atul\n",
      "course cse\n"
     ]
    }
   ],
   "source": [
    "class student:\n",
    "    def _init_(self):\n",
    "        self.rollno=0\n",
    "        self.name=\"\"\n",
    "        self.course=\"\"\n",
    "    \n",
    "    \n",
    "    def getvalues(self):\n",
    "        print(\"rollno\",self.rollno)\n",
    "        print(\"name:\",self.name)\n",
    "        print(\"course\",self.course)\n",
    "    \n",
    "    def setvalues(self,name,rollno,course):\n",
    "        self.name=name\n",
    "        self.rollno=rollno\n",
    "        self.course=course\n",
    "        \n",
    "stu=student()\n",
    "stu.setvalues('atul',1,'cse')\n",
    "stu.getvalues()\n",
    "        "
   ]
  },
  {
   "cell_type": "code",
   "execution_count": 3,
   "id": "d89aa9d3",
   "metadata": {},
   "outputs": [
    {
     "name": "stdout",
     "output_type": "stream",
     "text": [
      "ajay btech 121\n"
     ]
    }
   ],
   "source": [
    "# object-real time entity.\n",
    "# class as a blueprint or vitual class.\n",
    "class student:\n",
    "    name=\"\"\n",
    "    rollno=0\n",
    "    course=''\n",
    "    def setvalue(self,rollno,name,course):\n",
    "        self.name=name\n",
    "        self.rollno=rollno\n",
    "        self.course=course\n",
    "        \n",
    "    def getvalue(self):\n",
    "        print(self.name,self.course,self.rollno)\n",
    "    \n",
    "    \n",
    "stu=student()\n",
    "stu.setvalue(121,'ajay','btech')\n",
    "stu.getvalue()"
   ]
  },
  {
   "cell_type": "code",
   "execution_count": 24,
   "id": "ddeaa139",
   "metadata": {},
   "outputs": [
    {
     "name": "stdout",
     "output_type": "stream",
     "text": [
      "name aditi\n",
      "rollno 123\n",
      "batch bca\n"
     ]
    }
   ],
   "source": [
    "class teacher:\n",
    "    def _init_(self,name,rollno,batch):\n",
    "        self.name=''\n",
    "        self.rollno=0\n",
    "        self.batch=''\n",
    "        \n",
    "    def getvalues(self):\n",
    "        print('name',self.name)\n",
    "        print('rollno',self.rollno)\n",
    "        print('batch',self.batch)\n",
    "    \n",
    "    def setvalues(self,name,rollno,batch):\n",
    "        self.name=name\n",
    "        self.rollno=rollno\n",
    "        self.batch=batch\n",
    "        \n",
    "tea=teacher()\n",
    "tea.setvalues('aditi',123,'bca')\n",
    "tea.getvalues()"
   ]
  },
  {
   "cell_type": "code",
   "execution_count": 32,
   "id": "0ecefc7a",
   "metadata": {},
   "outputs": [],
   "source": [
    "class A:\n",
    "    def method_A1(self):\n",
    "        print('you are accesssing class A -method A1')\n",
    "    def method_A2(self):\n",
    "        print('you are accessing class A-method A2')\n",
    "        \n",
    "class B(A):\n",
    "    def method_B1(self):\n",
    "        print('you are accessing class B-nethod B1')\n",
    "    def method_B2(self):\n",
    "        print('you are accessing class B-method B2')\n",
    "        "
   ]
  },
  {
   "cell_type": "code",
   "execution_count": 40,
   "id": "e79c62e8",
   "metadata": {},
   "outputs": [
    {
     "name": "stdout",
     "output_type": "stream",
     "text": [
      "you are accesssing class A -method A1\n",
      "you are accessing class A-method A2\n"
     ]
    }
   ],
   "source": [
    "bb.method_A1()\n",
    "bb.method_A2()"
   ]
  },
  {
   "cell_type": "code",
   "execution_count": 49,
   "id": "8a6f0798",
   "metadata": {},
   "outputs": [
    {
     "name": "stdout",
     "output_type": "stream",
     "text": [
      "you are accessing class A-method A2\n"
     ]
    }
   ],
   "source": [
    "bb.method_A2()"
   ]
  },
  {
   "cell_type": "code",
   "execution_count": 82,
   "id": "bdc0511a",
   "metadata": {},
   "outputs": [],
   "source": [
    "class Car:\n",
    "    def __init__(self,doorcount,wheelcount,brand,varient):\n",
    "        self.door_count=doorcount\n",
    "        self.wheel_count=wheelcount\n",
    "        self.brand=brand\n",
    "        self.varient=varient\n",
    "        \n",
    "    def getvalues(self):\n",
    "        print('car brand',self.brand)\n",
    "        print('car varient',self.varient)\n",
    "        print('car wheel count',self.wheel_count)\n",
    "        print('car door count',self.door_count)\n",
    "        \n",
    "        \n",
    "\n",
    "        "
   ]
  },
  {
   "cell_type": "code",
   "execution_count": 83,
   "id": "d6a7df76",
   "metadata": {},
   "outputs": [],
   "source": [
    "car = Car(5 , 5,\"maruti\",\"swift\")"
   ]
  },
  {
   "cell_type": "code",
   "execution_count": 84,
   "id": "9f89b59e",
   "metadata": {},
   "outputs": [
    {
     "name": "stdout",
     "output_type": "stream",
     "text": [
      "car brand maruti\n",
      "car varient swift\n",
      "car wheel count 5\n",
      "car door count 5\n"
     ]
    }
   ],
   "source": [
    "car.getvalues()"
   ]
  },
  {
   "cell_type": "code",
   "execution_count": 101,
   "id": "38c710c8",
   "metadata": {},
   "outputs": [],
   "source": [
    "class Car:\n",
    "    def __init__(self,doorcount,brand,wheelcount,varient):\n",
    "        self.door_count=doorcount\n",
    "        self.wheel_count=wheelcount\n",
    "        self.brand=brand\n",
    "        self.varient=varient\n",
    "        \n",
    "    def getvalues(self):\n",
    "        print(\"car brand\",self.brand)\n",
    "        print('car varient',self.varient)\n",
    "        print('car wheel count',self.wheel_count)\n",
    "        print('car door count',self.door_count)\n",
    "        \n",
    "    class carfeatures(Car):\n",
    "        def __init__(self,mileage,fueltype):\n",
    "            self.mileage=mileage\n",
    "            self.fueltype=fueltype\n",
    "            \n",
    "        def getcarfeatures(self):\n",
    "            print('mileage',self.mileage)\n",
    "            print('fueltype',self.fueltype)\n",
    "        "
   ]
  },
  {
   "cell_type": "code",
   "execution_count": 114,
   "id": "1b854eb4",
   "metadata": {},
   "outputs": [
    {
     "ename": "SyntaxError",
     "evalue": "invalid syntax (Temp/ipykernel_4448/3131634630.py, line 1)",
     "output_type": "error",
     "traceback": [
      "\u001b[1;36m  File \u001b[1;32m\"C:\\Users\\DELL\\AppData\\Local\\Temp/ipykernel_4448/3131634630.py\"\u001b[1;36m, line \u001b[1;32m1\u001b[0m\n\u001b[1;33m    cf =carfeatures car(30,\"electric\")\u001b[0m\n\u001b[1;37m                    ^\u001b[0m\n\u001b[1;31mSyntaxError\u001b[0m\u001b[1;31m:\u001b[0m invalid syntax\n"
     ]
    }
   ],
   "source": [
    "cf =carfeatures(30,\"electric\")\n",
    "cf.getcarfeatures()"
   ]
  },
  {
   "cell_type": "code",
   "execution_count": null,
   "id": "967fa73e",
   "metadata": {},
   "outputs": [],
   "source": []
  }
 ],
 "metadata": {
  "kernelspec": {
   "display_name": "Python 3 (ipykernel)",
   "language": "python",
   "name": "python3"
  },
  "language_info": {
   "codemirror_mode": {
    "name": "ipython",
    "version": 3
   },
   "file_extension": ".py",
   "mimetype": "text/x-python",
   "name": "python",
   "nbconvert_exporter": "python",
   "pygments_lexer": "ipython3",
   "version": "3.9.7"
  }
 },
 "nbformat": 4,
 "nbformat_minor": 5
}
