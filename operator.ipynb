{
 "cells": [
  {
   "cell_type": "code",
   "execution_count": null,
   "id": "db49b15f",
   "metadata": {},
   "outputs": [],
   "source": [
    "#how many type of operator."
   ]
  },
  {
   "cell_type": "code",
   "execution_count": null,
   "id": "b4b369e3",
   "metadata": {},
   "outputs": [],
   "source": [
    "*seven type of operator."
   ]
  },
  {
   "cell_type": "code",
   "execution_count": null,
   "id": "0d4e9682",
   "metadata": {},
   "outputs": [],
   "source": [
    "@ arthimetic-+,-,*,/,%,//,**            a1+a2(a1,a2=oprends,+ operator) & a=[b+c](a,b,c)-oprends,+-operator"
   ]
  },
  {
   "cell_type": "code",
   "execution_count": null,
   "id": "572b7d1c",
   "metadata": {},
   "outputs": [],
   "source": [
    "@ assignment-=,+=,-=,*=,/=,%=,//=,**=    a=10, a=a+2,  a=10+2=12,  a**=2,  a=a**2=144"
   ]
  },
  {
   "cell_type": "code",
   "execution_count": null,
   "id": "8c950476",
   "metadata": {},
   "outputs": [],
   "source": [
    "@ comperison- <,>,<=,>=,==,!=       a,b=10,20  a>b=false,a<b=true||a,b,c,d=10,20,30,40 a<=b=true,a<=c=true,a>=b=false"
   ]
  },
  {
   "cell_type": "code",
   "execution_count": null,
   "id": "053cba22",
   "metadata": {},
   "outputs": [],
   "source": [
    "@ logical- and,or,not          and/or/not   - boolean result"
   ]
  },
  {
   "cell_type": "code",
   "execution_count": null,
   "id": "95a66978",
   "metadata": {},
   "outputs": [],
   "source": [
    "@ bitwise -&,/,<<,>>       x||y|| and||or||notx||noty"
   ]
  },
  {
   "cell_type": "code",
   "execution_count": null,
   "id": "b2e408fe",
   "metadata": {},
   "outputs": [],
   "source": [
    "@ membership-              f|f   f    f      t    t       (a>b)or(b<c)=t"
   ]
  },
  {
   "cell_type": "code",
   "execution_count": null,
   "id": "614fbaa4",
   "metadata": {},
   "outputs": [],
   "source": [
    "@ identity                 f|t   f     t      t    f      (a>b)or(b<c)or(a==d)"
   ]
  },
  {
   "cell_type": "code",
   "execution_count": null,
   "id": "83dd37a2",
   "metadata": {},
   "outputs": [],
   "source": [
    "                           t|f   f     t      f    t       f      t       f"
   ]
  },
  {
   "cell_type": "code",
   "execution_count": null,
   "id": "d3de8160",
   "metadata": {},
   "outputs": [],
   "source": [
    "                           t|t   t     t      f     f"
   ]
  },
  {
   "cell_type": "code",
   "execution_count": null,
   "id": "8c39f520",
   "metadata": {},
   "outputs": [],
   "source": [
    "#  bitwise --& bitwise and,|bitwise or,<< left swift,>> right swift"
   ]
  },
  {
   "cell_type": "code",
   "execution_count": null,
   "id": "6988a2c4",
   "metadata": {},
   "outputs": [],
   "source": [
    "# membership-in/not in"
   ]
  },
  {
   "cell_type": "code",
   "execution_count": 2,
   "id": "0183ecf6",
   "metadata": {},
   "outputs": [],
   "source": [
    "nums=[10,20,30]"
   ]
  },
  {
   "cell_type": "code",
   "execution_count": null,
   "id": "2cf553d2",
   "metadata": {},
   "outputs": [],
   "source": [
    "10 in nums=true"
   ]
  },
  {
   "cell_type": "code",
   "execution_count": null,
   "id": "5d22bbb7",
   "metadata": {},
   "outputs": [],
   "source": [
    "22 in nums=false"
   ]
  },
  {
   "cell_type": "code",
   "execution_count": null,
   "id": "3b45273f",
   "metadata": {},
   "outputs": [],
   "source": [
    "22 not in nums=true"
   ]
  },
  {
   "cell_type": "code",
   "execution_count": null,
   "id": "920875fc",
   "metadata": {},
   "outputs": [],
   "source": [
    "# identity operator:- is /not is "
   ]
  },
  {
   "cell_type": "code",
   "execution_count": null,
   "id": "a629116b",
   "metadata": {},
   "outputs": [],
   "source": [
    "a=10 ,b=a"
   ]
  },
  {
   "cell_type": "code",
   "execution_count": null,
   "id": "8b882e6d",
   "metadata": {},
   "outputs": [],
   "source": [
    "a is b "
   ]
  },
  {
   "cell_type": "code",
   "execution_count": null,
   "id": "4aaaef0d",
   "metadata": {},
   "outputs": [],
   "source": []
  }
 ],
 "metadata": {
  "kernelspec": {
   "display_name": "Python 3 (ipykernel)",
   "language": "python",
   "name": "python3"
  },
  "language_info": {
   "codemirror_mode": {
    "name": "ipython",
    "version": 3
   },
   "file_extension": ".py",
   "mimetype": "text/x-python",
   "name": "python",
   "nbconvert_exporter": "python",
   "pygments_lexer": "ipython3",
   "version": "3.9.7"
  }
 },
 "nbformat": 4,
 "nbformat_minor": 5
}
