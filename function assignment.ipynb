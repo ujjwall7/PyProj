{
 "cells": [
  {
   "cell_type": "code",
   "execution_count": 18,
   "id": "8f5e3a63",
   "metadata": {},
   "outputs": [
    {
     "name": "stdout",
     "output_type": "stream",
     "text": [
      "enter any words or symbol\"deepak\"*&\n",
      "10\n"
     ]
    }
   ],
   "source": [
    "# write down a fn that calculates the length of the string.\n",
    "# prg-2\n",
    "def fun():\n",
    "    n=input(\"enter any words or symbol\")\n",
    "    len(n)\n",
    "    print(len(n))\n",
    "\n",
    "\n",
    "fun()\n",
    "\n",
    "    \n",
    "\n"
   ]
  },
  {
   "cell_type": "code",
   "execution_count": 1,
   "id": "3a04f986",
   "metadata": {},
   "outputs": [
    {
     "name": "stdout",
     "output_type": "stream",
     "text": [
      "enter any word deepak\n",
      "vowels= e\n",
      "vowels= e\n",
      "vowels= a\n"
     ]
    }
   ],
   "source": [
    "# prog=1\n",
    "def name():\n",
    "    n=input(\"enter any word \")\n",
    "    for i in range(0,len(n)):\n",
    "        if (n[i]=='a'or n[i]=='e'or n[i]=='i'or n[i]=='o'or n[i]=='u'):\n",
    "            print('vowels=',n[i])\n",
    "            \n",
    "            \n",
    "name()\n",
    "    "
   ]
  },
  {
   "cell_type": "code",
   "execution_count": null,
   "id": "fe28b737",
   "metadata": {},
   "outputs": [],
   "source": []
  },
  {
   "cell_type": "code",
   "execution_count": 31,
   "id": "e508ccf8",
   "metadata": {},
   "outputs": [
    {
     "name": "stdout",
     "output_type": "stream",
     "text": [
      "[[5], 2, 3, 4, [1]]\n"
     ]
    }
   ],
   "source": [
    "# 3rd\n",
    "def name():\n",
    "    n=[1,2,3,4,5]\n",
    "    n[0]=[5]\n",
    "    n[4]=[1]\n",
    "    print(n)\n",
    "name()    \n",
    "    "
   ]
  },
  {
   "cell_type": "code",
   "execution_count": 4,
   "id": "9cc643d7",
   "metadata": {},
   "outputs": [
    {
     "name": "stdout",
     "output_type": "stream",
     "text": [
      "enter any number12344\n",
      "{1: 1, 2: 1, 3: 1, 4: 2}\n"
     ]
    }
   ],
   "source": [
    "#4th\n",
    "num=input('enter any number')\n",
    "unique_int_count={}\n",
    "num=[integer for integer in num]\n",
    "for n in num:\n",
    "    if int(n) in unique_int_count.keys():\n",
    "        unique_int_count[int(n)]+=1\n",
    "    else:\n",
    "        unique_int_count[int(n)]=1\n",
    "print(unique_int_count)\n",
    "\n",
    "    "
   ]
  },
  {
   "cell_type": "code",
   "execution_count": 64,
   "id": "85b7a0d1",
   "metadata": {},
   "outputs": [
    {
     "data": {
      "text/plain": [
       "'rohsik jar'"
      ]
     },
     "execution_count": 64,
     "metadata": {},
     "output_type": "execute_result"
    }
   ],
   "source": [
    "#5th\n",
    "reverse=lambda msg:msg[::-1]\n",
    "reverse('raj kishor')\n"
   ]
  },
  {
   "cell_type": "code",
   "execution_count": 98,
   "id": "0bf8324c",
   "metadata": {},
   "outputs": [
    {
     "name": "stdout",
     "output_type": "stream",
     "text": [
      "input the number count fact:5\n",
      "120\n"
     ]
    }
   ],
   "source": [
    "# 6th\n",
    "def fact(n):\n",
    "    if n==0:\n",
    "        return 1\n",
    "    else:\n",
    "        return n*fact(n-1)\n",
    "n=int(input('input the number count fact:'))\n",
    "print(fact(n))\n",
    "    \n",
    "   \n",
    "\n",
    "\n",
    "\n",
    "        \n",
    "\n",
    "    "
   ]
  },
  {
   "cell_type": "code",
   "execution_count": 17,
   "id": "c39bfb6c",
   "metadata": {},
   "outputs": [
    {
     "name": "stdout",
     "output_type": "stream",
     "text": [
      "45\n"
     ]
    }
   ],
   "source": [
    "# prog 7\n",
    "def fun(n):\n",
    "    b=max(n)\n",
    "    print(b)\n",
    "items=[2,32,45]\n",
    "c=fun(items)\n",
    "\n",
    "        \n",
    "    \n"
   ]
  },
  {
   "cell_type": "code",
   "execution_count": 15,
   "id": "ba7c8aeb",
   "metadata": {},
   "outputs": [
    {
     "name": "stdout",
     "output_type": "stream",
     "text": [
      "28\n",
      "None\n"
     ]
    }
   ],
   "source": [
    "# 8th\n",
    "def so(c):\n",
    "    s=0\n",
    "    for i in range(len(c)):\n",
    "        s+=c[i]\n",
    "    print(s)    \n",
    "items=[1,2,3,4,5,6,7]\n",
    "\n",
    "b=so(items)\n",
    "print(b)"
   ]
  },
  {
   "cell_type": "code",
   "execution_count": 18,
   "id": "510c3e59",
   "metadata": {},
   "outputs": [
    {
     "data": {
      "text/plain": [
       "['karam chand', 'mohan das', 'satish kumar']"
      ]
     },
     "execution_count": 18,
     "metadata": {},
     "output_type": "execute_result"
    }
   ],
   "source": [
    "name=['mohan das','karam chand','satish kumar']\n",
    "name.sort(key=lambda name:name.split(\" \")[1])\n",
    "name"
   ]
  },
  {
   "cell_type": "code",
   "execution_count": 33,
   "id": "363caeb4",
   "metadata": {},
   "outputs": [
    {
     "name": "stdout",
     "output_type": "stream",
     "text": [
      "2\n",
      "10\n",
      "80\n",
      "720\n",
      "None\n"
     ]
    }
   ],
   "source": [
    "# 9th prog\n",
    "def fun(n):\n",
    "    res=1\n",
    "    for i in range(len(n)):\n",
    "        res=res*n[i]\n",
    "        print(res)\n",
    "item=[2,5,8,9]\n",
    "b=fun(item)\n",
    "print(b)\n",
    "\n",
    "\n",
    "    \n",
    "        \n",
    "    \n",
    "    "
   ]
  },
  {
   "cell_type": "code",
   "execution_count": 13,
   "id": "f102cf13",
   "metadata": {},
   "outputs": [
    {
     "name": "stdout",
     "output_type": "stream",
     "text": [
      "ajay btech 1234\n"
     ]
    }
   ],
   "source": [
    "class student:\n",
    "    name='\n",
    "    rollno=0\n",
    "    course=\"\n",
    "    def setvalues(self,rollno,name,course):\n",
    "        self.name=name\n",
    "        self.rollno=rollno\n",
    "        self.course=course\n",
    "        \n",
    "    def getvalues(self):\n",
    "        print(self.name,self.course,self.rollno)\n",
    "        \n",
    "stu=student()\n",
    "stu.setvalues(1234,'ajay','btech')\n",
    "stu.getvalues()"
   ]
  },
  {
   "cell_type": "code",
   "execution_count": 22,
   "id": "53811cef",
   "metadata": {},
   "outputs": [
    {
     "name": "stdout",
     "output_type": "stream",
     "text": [
      "ajay btech 1234\n"
     ]
    }
   ],
   "source": [
    "class student:\n",
    "    def setvalues(self,rollno,name,course):\n",
    "        self.name=name\n",
    "        self.rollno=rollno\n",
    "        self.course=course\n",
    "        \n",
    "    def getvalues(self):\n",
    "        print(self.name,self.course,self.rollno)\n",
    "        \n",
    "stu=student()\n",
    "print(type())\n",
    "stu.setvalues(1234,'ajay','btech')\n",
    "stu.getvalues()"
   ]
  },
  {
   "cell_type": "code",
   "execution_count": 14,
   "id": "89bc5b46",
   "metadata": {},
   "outputs": [
    {
     "data": {
      "text/plain": [
       "'mar eerhs iaj'"
      ]
     },
     "execution_count": 14,
     "metadata": {},
     "output_type": "execute_result"
    }
   ],
   "source": [
    "reverse=lambda reverse:reverse[::-1]\n",
    "reverse('jai shree ram')\n",
    "\n",
    "\n",
    "\n"
   ]
  },
  {
   "cell_type": "code",
   "execution_count": 26,
   "id": "70def33d",
   "metadata": {},
   "outputs": [
    {
     "name": "stdout",
     "output_type": "stream",
     "text": [
      "enter 1st num67\n",
      "enter 2nd num=78\n",
      "sum of 67 and 78is 145\n"
     ]
    }
   ],
   "source": [
    "def sum2nums():\n",
    "    n1=input(\"enter 1st num\")\n",
    "    n1=int(n1)\n",
    "    n2=input('enter 2nd num=')\n",
    "    n2=int(n2)\n",
    "    total=n1+n2\n",
    "    print(f\"sum of {n1} and {n2}is {total}\")\n",
    "sum2nums()"
   ]
  },
  {
   "cell_type": "code",
   "execution_count": null,
   "id": "a8c06d66",
   "metadata": {},
   "outputs": [],
   "source": [
    "\n",
    "    "
   ]
  },
  {
   "cell_type": "markdown",
   "id": "cba47b79",
   "metadata": {},
   "source": []
  },
  {
   "cell_type": "code",
   "execution_count": null,
   "id": "a167828e",
   "metadata": {},
   "outputs": [],
   "source": []
  },
  {
   "cell_type": "code",
   "execution_count": null,
   "id": "fe80ec61",
   "metadata": {},
   "outputs": [],
   "source": []
  }
 ],
 "metadata": {
  "kernelspec": {
   "display_name": "Python 3 (ipykernel)",
   "language": "python",
   "name": "python3"
  },
  "language_info": {
   "codemirror_mode": {
    "name": "ipython",
    "version": 3
   },
   "file_extension": ".py",
   "mimetype": "text/x-python",
   "name": "python",
   "nbconvert_exporter": "python",
   "pygments_lexer": "ipython3",
   "version": "3.9.7"
  }
 },
 "nbformat": 4,
 "nbformat_minor": 5
}
